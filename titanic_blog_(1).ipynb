{
  "nbformat": 4,
  "nbformat_minor": 0,
  "metadata": {
    "colab": {
      "name": "titanic_blog (1).ipynb",
      "provenance": [],
      "include_colab_link": true
    },
    "kernelspec": {
      "name": "python3",
      "display_name": "Python 3"
    }
  },
  "cells": [
    {
      "cell_type": "markdown",
      "metadata": {
        "id": "view-in-github",
        "colab_type": "text"
      },
      "source": [
        "<a href=\"https://colab.research.google.com/github/Gabrielmarcial/Data-Marte/blob/main/titanic_blog_(1).ipynb\" target=\"_parent\"><img src=\"https://colab.research.google.com/assets/colab-badge.svg\" alt=\"Open In Colab\"/></a>"
      ]
    },
    {
      "cell_type": "markdown",
      "metadata": {
        "id": "RutI5DYmgc4a"
      },
      "source": [
        "## Desafio TITANIC \n",
        "\n",
        "Quem está entrando no mundo da ciência de dados e conhecendo mais sobre seus conceitos já ouviu falar do desafio do titanic de ML, ele é considerado o \"Hello World\" na ciência de dados.\n",
        " \n",
        "Esse desafio é um dos primeiros projetos de quem está começando na ciência de dados, ele não só ajuda a  se familiarizar com conceitos de Data Science como também ajuda a se familiarizar com o ambiente do Kaggle que é uma plataforma focada em ciência de dados é considerada o \"Pai\" do cientista de dados.\n",
        "\n"
      ]
    },
    {
      "cell_type": "markdown",
      "metadata": {
        "id": "uTHJ5qTvv2hS"
      },
      "source": [
        "\n",
        "## Kaggle \n",
        "\n",
        "O kaggle é uma plataforma voltada para para projetos de Data Science e Machine learning. Nele é possível baixar datasets, participar de competições, plataforma de aprendizado, hospedar projetos e fóram para perguntas. \n",
        " \n",
        "O kaggle é uma excelente forma de colocar a mão na massa e sair da teoria, entã nela você consegue colocar em prática seus conceitos de Data science.\n",
        " \n",
        "Ela oferece inúmeras competições algumas promovidas por empresas que oferecem prêmios para as melhores soluções e outras promovidas pela própria plataforma como a que vamos desenvolver hoje que é a do Titanic.\n",
        "\n",
        "\n"
      ]
    },
    {
      "cell_type": "markdown",
      "metadata": {
        "id": "CULxeX5F14kQ"
      },
      "source": [
        "## O Desafio \n",
        "o desafio consiste em escrever um modelo de preditivo para saber que tipo de pessoas que sobreviveram ao naufrágio do Titanic e para isso a plataforma Kaggle fornece uma base de dados com características como sexo,idade,classe e outras informações para você poder treinar seu modelo de previsão."
      ]
    },
    {
      "cell_type": "markdown",
      "metadata": {
        "id": "U7xsX-ppcKgv"
      },
      "source": [
        "## Entendendo o Problema\n",
        "Antes de começar a trabalhar a base de dados vamos entender com o que estamos lidando neste projeto. \n",
        " \n",
        " \n",
        "O naufrágio do titanic  aconteceu em 15 de abril de 1992 no atlântico  norte colidindo com um iceberg quatro dias depois de sua viagem inaugural, o considerado 'inafundável' navio deixou 1502 mortos dos 2224 passageiros e tripulantes. \n",
        " \n",
        " \n",
        "Mesmo com um fator sorte envolvido no desastre parece que alguns grupos tiveram mais chances que outros de sobrevivência.\n",
        " \n",
        " \n",
        "Nesse desafio vamos trabalhar com duas base de dados uma para treinar nosso modelo e outra para testá lo. \n",
        " \n",
        " \n",
        "\n",
        "\n",
        "*   conjunto de treinamento (train.csv)\n",
        "*   conjunto de teste (test.csv)\n",
        "\n"
      ]
    },
    {
      "cell_type": "markdown",
      "metadata": {
        "id": "qoyXVJCLIetr"
      },
      "source": [
        "## Dicionário dos dados \n",
        " \n",
        "* PassengerId (Número de identificação dos passageiros)\n",
        " \n",
        "* survival (Sobrevivencia, 0 = não e 1 = sim)   \n",
        " \n",
        "* pclass (Classe de ingresso, 1 = 1°  2 = 2°  3 = 3° )  \n",
        " \n",
        "* Name (Nome do passageiro)\n",
        " \n",
        "* sex (Sexo do passageiro) \n",
        " \n",
        "* Age (Idade) \n",
        " \n",
        "* sibsp ( irmãos / cônjuges a bordo do Titanic)\n",
        " \n",
        "* parch (de pais / filhos a bordo do Titanic)\n",
        " \n",
        "* ticket (Número do bilhete)    \n",
        " \n",
        "* fare (Tarifa de passageiro)\n",
        " \n",
        "* cabin (Número da cabine)\n",
        " \n",
        "* embarked (Porto de embarcação , C = Cherbourg, Q = Queenstown, S = Southampton)\n",
        "\n",
        "\n"
      ]
    },
    {
      "cell_type": "markdown",
      "metadata": {
        "id": "dbPvtX-h0IO5"
      },
      "source": [
        "## importando as base de dados "
      ]
    },
    {
      "cell_type": "code",
      "metadata": {
        "id": "OLRmJCxIgXp1"
      },
      "source": [
        "import pandas as pd \n",
        "import matplotlib.pyplot as plt \n",
        "import numpy as np \n",
        "import seaborn as sns"
      ],
      "execution_count": null,
      "outputs": []
    },
    {
      "cell_type": "markdown",
      "metadata": {
        "id": "j-SamR_AMKj6"
      },
      "source": [
        "Para começar a trabalhar nossa base de dados vamos ler os dois arquivos de treino e teste, eu deixei o df1 como o de treino( train.csv) e o df2 como o de teste(test.csv) e depois visualizei meu conjunto df1 para ter uma noção da nossa base de dados."
      ]
    },
    {
      "cell_type": "code",
      "metadata": {
        "id": "IHvZxCKqgi07",
        "colab": {
          "base_uri": "https://localhost:8080/",
          "height": 266
        },
        "outputId": "52749cd3-6ecc-43c7-f9c7-2237bc029e03"
      },
      "source": [
        "df1 = pd.read_csv('/content/train.csv')\n",
        "df2 = pd.read_csv('/content/test.csv')\n",
        "print(df1)"
      ],
      "execution_count": null,
      "outputs": [
        {
          "output_type": "stream",
          "text": [
            "     PassengerId  Survived  Pclass  ...     Fare Cabin  Embarked\n",
            "0              1         0       3  ...   7.2500   NaN         S\n",
            "1              2         1       1  ...  71.2833   C85         C\n",
            "2              3         1       3  ...   7.9250   NaN         S\n",
            "3              4         1       1  ...  53.1000  C123         S\n",
            "4              5         0       3  ...   8.0500   NaN         S\n",
            "..           ...       ...     ...  ...      ...   ...       ...\n",
            "886          887         0       2  ...  13.0000   NaN         S\n",
            "887          888         1       1  ...  30.0000   B42         S\n",
            "888          889         0       3  ...  23.4500   NaN         S\n",
            "889          890         1       1  ...  30.0000  C148         C\n",
            "890          891         0       3  ...   7.7500   NaN         Q\n",
            "\n",
            "[891 rows x 12 columns]\n"
          ],
          "name": "stdout"
        }
      ]
    },
    {
      "cell_type": "markdown",
      "metadata": {
        "id": "ph1JMj1_M0Zm"
      },
      "source": [
        "## Trabalhando com a base de dados \n",
        "\n",
        "Para começar vou renomear o nome das minhas colunas para melhorar a compreensão dos nossos dados, para isso vou usar o comando `df.columns` e igualar aos nomes que quero das colunas.\n",
        "\n",
        "Lembrando que estamos trabalhando com duas base de dados e vamos treinar nosso modelo com  a df1 e testar com a df2, logo essas bases de dados tem que estar no mesmo padrão, então tudo que eu fizer em df1 vamos fazer em df2.\n",
        "\n",
        "\n",
        "\n"
      ]
    },
    {
      "cell_type": "code",
      "metadata": {
        "id": "4-UjkVowgi3h"
      },
      "source": [
        "df1.columns=['Pass.Id','Sobreviveu','Classe','Nome','Sexo','Idade','SibSp','Parch','Bilhete','Tarifa','Cabine','Embarcou']\n",
        "df2.columns=['Pass.Id','Classe','Nome','Sexo','Idade','SibSp','Parch','Bilhete','Tarifa','Cabine','Embarcou']"
      ],
      "execution_count": null,
      "outputs": []
    },
    {
      "cell_type": "markdown",
      "metadata": {
        "id": "U8dSghRfOi4z"
      },
      "source": [
        "Depois que o nome das colunas foram trocados, vamos entender como a nossa base de dados está se comportando e para isso vamos primeiro ver a correlação entre os nossos dados."
      ]
    },
    {
      "cell_type": "markdown",
      "metadata": {
        "id": "-KbEwD-Q3tp-"
      },
      "source": [
        "\n",
        "\n",
        "\n",
        "\n",
        "\n",
        "\n",
        "\n",
        "\n",
        "\n",
        "\n",
        "\n",
        "\n",
        "\n",
        "\n",
        "\n",
        "\n",
        "\n",
        "\n",
        "\n",
        "\n",
        "\n",
        "\n",
        "\n",
        "\n",
        "\n",
        "\n",
        "\n",
        "\n",
        "\n",
        "\n",
        "\n",
        "\n",
        "\n",
        "\n",
        "\n",
        "\n",
        "\n",
        "\n",
        "\n",
        "\n",
        "\n",
        "\n",
        "\n"
      ]
    },
    {
      "cell_type": "code",
      "metadata": {
        "id": "twC7fM2Sgi6c",
        "colab": {
          "base_uri": "https://localhost:8080/",
          "height": 897
        },
        "outputId": "aaaf2437-5305-46fb-c7b8-9b80daa110e1"
      },
      "source": [
        "plt.figure(figsize=(15,15))\n",
        "sns.heatmap(df1.corr(),annot=True,cmap='Blues')\n",
        "plt.title('Correlação')"
      ],
      "execution_count": null,
      "outputs": [
        {
          "output_type": "execute_result",
          "data": {
            "text/plain": [
              "Text(0.5, 1.0, 'Correlação')"
            ]
          },
          "metadata": {
            "tags": []
          },
          "execution_count": 4
        },
        {
          "output_type": "display_data",
          "data": {
            "image/png": "[encoded data removed]",
            "text/plain": [
              "<Figure size 1080x1080 with 2 Axes>"
            ]
          },
          "metadata": {
            "tags": [],
            "needs_background": "light"
          }
        }
      ]
    },
    {
      "cell_type": "markdown",
      "metadata": {
        "id": "R2xpD2c6O9LG"
      },
      "source": [
        "Aqui já conseguimos perceber que alguns fatores não estão aparecendo no nossa mapa de correlação e como 'Nome' ,'Bilhte' e 'Cabine'. "
      ]
    },
    {
      "cell_type": "markdown",
      "metadata": {
        "id": "Xy0hX5FeXkhc"
      },
      "source": [
        "Agora usando a biblioteca **seaborn** vamos analisar as colunas 'sexo', 'Classe' e 'Embarque' e como se comportaram entre os sobreviventes."
      ]
    },
    {
      "cell_type": "code",
      "metadata": {
        "id": "OQBt3fe-gi85",
        "colab": {
          "base_uri": "https://localhost:8080/",
          "height": 297
        },
        "outputId": "0bd516e5-6aa4-45f2-97ee-8a83c6d797d4"
      },
      "source": [
        "sns.barplot(x =df1['Sexo'] ,y =df1['Sobreviveu'])"
      ],
      "execution_count": null,
      "outputs": [
        {
          "output_type": "execute_result",
          "data": {
            "text/plain": [
              "<matplotlib.axes._subplots.AxesSubplot at 0x7f85ad640f98>"
            ]
          },
          "metadata": {
            "tags": []
          },
          "execution_count": 5
        },
        {
          "output_type": "display_data",
          "data": {
            "image/png": "[encoded data removed]",
            "text/plain": [
              "<Figure size 432x288 with 1 Axes>"
            ]
          },
          "metadata": {
            "tags": [],
            "needs_background": "light"
          }
        }
      ]
    },
    {
      "cell_type": "code",
      "metadata": {
        "id": "60_giw2jgjBS",
        "colab": {
          "base_uri": "https://localhost:8080/",
          "height": 297
        },
        "outputId": "a0d1aeca-6711-4e2f-c097-e9e346e61207"
      },
      "source": [
        "sns.barplot(x=df1['Classe'] ,y=df1['Sobreviveu'] )"
      ],
      "execution_count": null,
      "outputs": [
        {
          "output_type": "execute_result",
          "data": {
            "text/plain": [
              "<matplotlib.axes._subplots.AxesSubplot at 0x7f85ad0d48d0>"
            ]
          },
          "metadata": {
            "tags": []
          },
          "execution_count": 6
        },
        {
          "output_type": "display_data",
          "data": {
            "image/png": "[encoded data removed]",
            "text/plain": [
              "<Figure size 432x288 with 1 Axes>"
            ]
          },
          "metadata": {
            "tags": [],
            "needs_background": "light"
          }
        }
      ]
    },
    {
      "cell_type": "code",
      "metadata": {
        "id": "P6r7-xYbTsRu",
        "colab": {
          "base_uri": "https://localhost:8080/",
          "height": 297
        },
        "outputId": "12457cdf-e02a-467b-8b96-5c96fc613676"
      },
      "source": [
        "sns.barplot(x=df1['Embarcou'] ,y=df1['Sobreviveu'] )"
      ],
      "execution_count": null,
      "outputs": [
        {
          "output_type": "execute_result",
          "data": {
            "text/plain": [
              "<matplotlib.axes._subplots.AxesSubplot at 0x7f85ad0b9160>"
            ]
          },
          "metadata": {
            "tags": []
          },
          "execution_count": 7
        },
        {
          "output_type": "display_data",
          "data": {
            "image/png": "[encoded data removed]",
            "text/plain": [
              "<Figure size 432x288 with 1 Axes>"
            ]
          },
          "metadata": {
            "tags": [],
            "needs_background": "light"
          }
        }
      ]
    },
    {
      "cell_type": "markdown",
      "metadata": {
        "id": "6CM6gZ7FXwDw"
      },
      "source": [
        "E aqui já conseguimos entender algumas observações interresantes, como o sexo feminino,as classes mais altas e os passageiros que embarcaram no porto 'C' estiveram em maiores números entre os sobreviventes. "
      ]
    },
    {
      "cell_type": "markdown",
      "metadata": {
        "id": "Mr7vVSJaZWTa"
      },
      "source": [
        "## Tratamento dos dados \n",
        "Antes de treinar nosso modelo de previsão temos que verificar se não existe valores ausentes e variaveis categoricas na nossa base de dados, pois o algoritmo de Machine learning que vamos usar não reconhece valores faltantes e dados categoricos. "
      ]
    },
    {
      "cell_type": "markdown",
      "metadata": {
        "id": "jVVeJvjhaq9I"
      },
      "source": [
        "Vamos começar retirando as colunas 'Nome','Bilhete','Cabine' que não apareceram na correlação, pois elas não vão afetar nosso modelo preditivo, e para isso vamos usar o comando drop ```.drop``` para retiralas. \n",
        "\n"
      ]
    },
    {
      "cell_type": "code",
      "metadata": {
        "id": "ctqCrk3KgjDn",
        "colab": {
          "base_uri": "https://localhost:8080/",
          "height": 399
        },
        "outputId": "c9226adf-6efa-4936-a60d-0ac74ee5cb9d"
      },
      "source": [
        "df1 = df1.drop(['Nome','Bilhete','Cabine'],axis=1)\n",
        "df1"
      ],
      "execution_count": null,
      "outputs": [
        {
          "output_type": "execute_result",
          "data": {
            "text/html": [
              "<div>\n",
              "<style scoped>\n",
              "    .dataframe tbody tr th:only-of-type {\n",
              "        vertical-align: middle;\n",
              "    }\n",
              "\n",
              "    .dataframe tbody tr th {\n",
              "        vertical-align: top;\n",
              "    }\n",
              "\n",
              "    .dataframe thead th {\n",
              "        text-align: right;\n",
              "    }\n",
              "</style>\n",
              "<table border=\"1\" class=\"dataframe\">\n",
              "  <thead>\n",
              "    <tr style=\"text-align: right;\">\n",
              "      <th></th>\n",
              "      <th>Pass.Id</th>\n",
              "      <th>Sobreviveu</th>\n",
              "      <th>Classe</th>\n",
              "      <th>Sexo</th>\n",
              "      <th>Idade</th>\n",
              "      <th>SibSp</th>\n",
              "      <th>Parch</th>\n",
              "      <th>Tarifa</th>\n",
              "      <th>Embarcou</th>\n",
              "    </tr>\n",
              "  </thead>\n",
              "  <tbody>\n",
              "    <tr>\n",
              "      <th>0</th>\n",
              "      <td>1</td>\n",
              "      <td>0</td>\n",
              "      <td>3</td>\n",
              "      <td>male</td>\n",
              "      <td>22.0</td>\n",
              "      <td>1</td>\n",
              "      <td>0</td>\n",
              "      <td>7.2500</td>\n",
              "      <td>S</td>\n",
              "    </tr>\n",
              "    <tr>\n",
              "      <th>1</th>\n",
              "      <td>2</td>\n",
              "      <td>1</td>\n",
              "      <td>1</td>\n",
              "      <td>female</td>\n",
              "      <td>38.0</td>\n",
              "      <td>1</td>\n",
              "      <td>0</td>\n",
              "      <td>71.2833</td>\n",
              "      <td>C</td>\n",
              "    </tr>\n",
              "    <tr>\n",
              "      <th>2</th>\n",
              "      <td>3</td>\n",
              "      <td>1</td>\n",
              "      <td>3</td>\n",
              "      <td>female</td>\n",
              "      <td>26.0</td>\n",
              "      <td>0</td>\n",
              "      <td>0</td>\n",
              "      <td>7.9250</td>\n",
              "      <td>S</td>\n",
              "    </tr>\n",
              "    <tr>\n",
              "      <th>3</th>\n",
              "      <td>4</td>\n",
              "      <td>1</td>\n",
              "      <td>1</td>\n",
              "      <td>female</td>\n",
              "      <td>35.0</td>\n",
              "      <td>1</td>\n",
              "      <td>0</td>\n",
              "      <td>53.1000</td>\n",
              "      <td>S</td>\n",
              "    </tr>\n",
              "    <tr>\n",
              "      <th>4</th>\n",
              "      <td>5</td>\n",
              "      <td>0</td>\n",
              "      <td>3</td>\n",
              "      <td>male</td>\n",
              "      <td>35.0</td>\n",
              "      <td>0</td>\n",
              "      <td>0</td>\n",
              "      <td>8.0500</td>\n",
              "      <td>S</td>\n",
              "    </tr>\n",
              "    <tr>\n",
              "      <th>...</th>\n",
              "      <td>...</td>\n",
              "      <td>...</td>\n",
              "      <td>...</td>\n",
              "      <td>...</td>\n",
              "      <td>...</td>\n",
              "      <td>...</td>\n",
              "      <td>...</td>\n",
              "      <td>...</td>\n",
              "      <td>...</td>\n",
              "    </tr>\n",
              "    <tr>\n",
              "      <th>886</th>\n",
              "      <td>887</td>\n",
              "      <td>0</td>\n",
              "      <td>2</td>\n",
              "      <td>male</td>\n",
              "      <td>27.0</td>\n",
              "      <td>0</td>\n",
              "      <td>0</td>\n",
              "      <td>13.0000</td>\n",
              "      <td>S</td>\n",
              "    </tr>\n",
              "    <tr>\n",
              "      <th>887</th>\n",
              "      <td>888</td>\n",
              "      <td>1</td>\n",
              "      <td>1</td>\n",
              "      <td>female</td>\n",
              "      <td>19.0</td>\n",
              "      <td>0</td>\n",
              "      <td>0</td>\n",
              "      <td>30.0000</td>\n",
              "      <td>S</td>\n",
              "    </tr>\n",
              "    <tr>\n",
              "      <th>888</th>\n",
              "      <td>889</td>\n",
              "      <td>0</td>\n",
              "      <td>3</td>\n",
              "      <td>female</td>\n",
              "      <td>NaN</td>\n",
              "      <td>1</td>\n",
              "      <td>2</td>\n",
              "      <td>23.4500</td>\n",
              "      <td>S</td>\n",
              "    </tr>\n",
              "    <tr>\n",
              "      <th>889</th>\n",
              "      <td>890</td>\n",
              "      <td>1</td>\n",
              "      <td>1</td>\n",
              "      <td>male</td>\n",
              "      <td>26.0</td>\n",
              "      <td>0</td>\n",
              "      <td>0</td>\n",
              "      <td>30.0000</td>\n",
              "      <td>C</td>\n",
              "    </tr>\n",
              "    <tr>\n",
              "      <th>890</th>\n",
              "      <td>891</td>\n",
              "      <td>0</td>\n",
              "      <td>3</td>\n",
              "      <td>male</td>\n",
              "      <td>32.0</td>\n",
              "      <td>0</td>\n",
              "      <td>0</td>\n",
              "      <td>7.7500</td>\n",
              "      <td>Q</td>\n",
              "    </tr>\n",
              "  </tbody>\n",
              "</table>\n",
              "<p>891 rows × 9 columns</p>\n",
              "</div>"
            ],
            "text/plain": [
              "     Pass.Id  Sobreviveu  Classe    Sexo  Idade  SibSp  Parch   Tarifa Embarcou\n",
              "0          1           0       3    male   22.0      1      0   7.2500        S\n",
              "1          2           1       1  female   38.0      1      0  71.2833        C\n",
              "2          3           1       3  female   26.0      0      0   7.9250        S\n",
              "3          4           1       1  female   35.0      1      0  53.1000        S\n",
              "4          5           0       3    male   35.0      0      0   8.0500        S\n",
              "..       ...         ...     ...     ...    ...    ...    ...      ...      ...\n",
              "886      887           0       2    male   27.0      0      0  13.0000        S\n",
              "887      888           1       1  female   19.0      0      0  30.0000        S\n",
              "888      889           0       3  female    NaN      1      2  23.4500        S\n",
              "889      890           1       1    male   26.0      0      0  30.0000        C\n",
              "890      891           0       3    male   32.0      0      0   7.7500        Q\n",
              "\n",
              "[891 rows x 9 columns]"
            ]
          },
          "metadata": {
            "tags": []
          },
          "execution_count": 8
        }
      ]
    },
    {
      "cell_type": "markdown",
      "metadata": {
        "id": "RFzd-dY2bU_d"
      },
      "source": [
        "Lembrando que as alterações que fazemos no dataset de treino vamos fazer no de teste."
      ]
    },
    {
      "cell_type": "code",
      "metadata": {
        "id": "IF6Mv85WgjGU",
        "colab": {
          "base_uri": "https://localhost:8080/",
          "height": 399
        },
        "outputId": "01b87ccb-a271-4ff1-aade-840cfac3ac9a"
      },
      "source": [
        "df2 = df2.drop(['Nome','Bilhete','Cabine'],axis=1 )\n",
        "df2"
      ],
      "execution_count": null,
      "outputs": [
        {
          "output_type": "execute_result",
          "data": {
            "text/html": [
              "<div>\n",
              "<style scoped>\n",
              "    .dataframe tbody tr th:only-of-type {\n",
              "        vertical-align: middle;\n",
              "    }\n",
              "\n",
              "    .dataframe tbody tr th {\n",
              "        vertical-align: top;\n",
              "    }\n",
              "\n",
              "    .dataframe thead th {\n",
              "        text-align: right;\n",
              "    }\n",
              "</style>\n",
              "<table border=\"1\" class=\"dataframe\">\n",
              "  <thead>\n",
              "    <tr style=\"text-align: right;\">\n",
              "      <th></th>\n",
              "      <th>Pass.Id</th>\n",
              "      <th>Classe</th>\n",
              "      <th>Sexo</th>\n",
              "      <th>Idade</th>\n",
              "      <th>SibSp</th>\n",
              "      <th>Parch</th>\n",
              "      <th>Tarifa</th>\n",
              "      <th>Embarcou</th>\n",
              "    </tr>\n",
              "  </thead>\n",
              "  <tbody>\n",
              "    <tr>\n",
              "      <th>0</th>\n",
              "      <td>892</td>\n",
              "      <td>3</td>\n",
              "      <td>male</td>\n",
              "      <td>34.5</td>\n",
              "      <td>0</td>\n",
              "      <td>0</td>\n",
              "      <td>7.8292</td>\n",
              "      <td>Q</td>\n",
              "    </tr>\n",
              "    <tr>\n",
              "      <th>1</th>\n",
              "      <td>893</td>\n",
              "      <td>3</td>\n",
              "      <td>female</td>\n",
              "      <td>47.0</td>\n",
              "      <td>1</td>\n",
              "      <td>0</td>\n",
              "      <td>7.0000</td>\n",
              "      <td>S</td>\n",
              "    </tr>\n",
              "    <tr>\n",
              "      <th>2</th>\n",
              "      <td>894</td>\n",
              "      <td>2</td>\n",
              "      <td>male</td>\n",
              "      <td>62.0</td>\n",
              "      <td>0</td>\n",
              "      <td>0</td>\n",
              "      <td>9.6875</td>\n",
              "      <td>Q</td>\n",
              "    </tr>\n",
              "    <tr>\n",
              "      <th>3</th>\n",
              "      <td>895</td>\n",
              "      <td>3</td>\n",
              "      <td>male</td>\n",
              "      <td>27.0</td>\n",
              "      <td>0</td>\n",
              "      <td>0</td>\n",
              "      <td>8.6625</td>\n",
              "      <td>S</td>\n",
              "    </tr>\n",
              "    <tr>\n",
              "      <th>4</th>\n",
              "      <td>896</td>\n",
              "      <td>3</td>\n",
              "      <td>female</td>\n",
              "      <td>22.0</td>\n",
              "      <td>1</td>\n",
              "      <td>1</td>\n",
              "      <td>12.2875</td>\n",
              "      <td>S</td>\n",
              "    </tr>\n",
              "    <tr>\n",
              "      <th>...</th>\n",
              "      <td>...</td>\n",
              "      <td>...</td>\n",
              "      <td>...</td>\n",
              "      <td>...</td>\n",
              "      <td>...</td>\n",
              "      <td>...</td>\n",
              "      <td>...</td>\n",
              "      <td>...</td>\n",
              "    </tr>\n",
              "    <tr>\n",
              "      <th>413</th>\n",
              "      <td>1305</td>\n",
              "      <td>3</td>\n",
              "      <td>male</td>\n",
              "      <td>NaN</td>\n",
              "      <td>0</td>\n",
              "      <td>0</td>\n",
              "      <td>8.0500</td>\n",
              "      <td>S</td>\n",
              "    </tr>\n",
              "    <tr>\n",
              "      <th>414</th>\n",
              "      <td>1306</td>\n",
              "      <td>1</td>\n",
              "      <td>female</td>\n",
              "      <td>39.0</td>\n",
              "      <td>0</td>\n",
              "      <td>0</td>\n",
              "      <td>108.9000</td>\n",
              "      <td>C</td>\n",
              "    </tr>\n",
              "    <tr>\n",
              "      <th>415</th>\n",
              "      <td>1307</td>\n",
              "      <td>3</td>\n",
              "      <td>male</td>\n",
              "      <td>38.5</td>\n",
              "      <td>0</td>\n",
              "      <td>0</td>\n",
              "      <td>7.2500</td>\n",
              "      <td>S</td>\n",
              "    </tr>\n",
              "    <tr>\n",
              "      <th>416</th>\n",
              "      <td>1308</td>\n",
              "      <td>3</td>\n",
              "      <td>male</td>\n",
              "      <td>NaN</td>\n",
              "      <td>0</td>\n",
              "      <td>0</td>\n",
              "      <td>8.0500</td>\n",
              "      <td>S</td>\n",
              "    </tr>\n",
              "    <tr>\n",
              "      <th>417</th>\n",
              "      <td>1309</td>\n",
              "      <td>3</td>\n",
              "      <td>male</td>\n",
              "      <td>NaN</td>\n",
              "      <td>1</td>\n",
              "      <td>1</td>\n",
              "      <td>22.3583</td>\n",
              "      <td>C</td>\n",
              "    </tr>\n",
              "  </tbody>\n",
              "</table>\n",
              "<p>418 rows × 8 columns</p>\n",
              "</div>"
            ],
            "text/plain": [
              "     Pass.Id  Classe    Sexo  Idade  SibSp  Parch    Tarifa Embarcou\n",
              "0        892       3    male   34.5      0      0    7.8292        Q\n",
              "1        893       3  female   47.0      1      0    7.0000        S\n",
              "2        894       2    male   62.0      0      0    9.6875        Q\n",
              "3        895       3    male   27.0      0      0    8.6625        S\n",
              "4        896       3  female   22.0      1      1   12.2875        S\n",
              "..       ...     ...     ...    ...    ...    ...       ...      ...\n",
              "413     1305       3    male    NaN      0      0    8.0500        S\n",
              "414     1306       1  female   39.0      0      0  108.9000        C\n",
              "415     1307       3    male   38.5      0      0    7.2500        S\n",
              "416     1308       3    male    NaN      0      0    8.0500        S\n",
              "417     1309       3    male    NaN      1      1   22.3583        C\n",
              "\n",
              "[418 rows x 8 columns]"
            ]
          },
          "metadata": {
            "tags": []
          },
          "execution_count": 9
        }
      ]
    },
    {
      "cell_type": "markdown",
      "metadata": {
        "id": "llHmz2DMbedm"
      },
      "source": [
        "### Valores faltantes\n",
        "Primeito vamos verificar quais colunas no nosso dataset tem valores ausentes, e para isso vamos colocar o comando `.isnull()` para identificar os dados ausentes nas colunas  e o comando `.sum()` para soma-los.\n"
      ]
    },
    {
      "cell_type": "code",
      "metadata": {
        "id": "gpqVwgLmgjJM",
        "colab": {
          "base_uri": "https://localhost:8080/",
          "height": 195
        },
        "outputId": "8a315217-b406-44c7-961e-91b90788c258"
      },
      "source": [
        "df1.isnull().sum()"
      ],
      "execution_count": null,
      "outputs": [
        {
          "output_type": "execute_result",
          "data": {
            "text/plain": [
              "Pass.Id         0\n",
              "Sobreviveu      0\n",
              "Classe          0\n",
              "Sexo            0\n",
              "Idade         177\n",
              "SibSp           0\n",
              "Parch           0\n",
              "Tarifa          0\n",
              "Embarcou        2\n",
              "dtype: int64"
            ]
          },
          "metadata": {
            "tags": []
          },
          "execution_count": 10
        }
      ]
    },
    {
      "cell_type": "markdown",
      "metadata": {
        "id": "a8bALh4WdVEK"
      },
      "source": [
        "Aqui identificamos que temos duas colunas com dados ausentes 'Idade' e 'Embarcou', nesses casos podemos tirar as linhas ou substituir, mas para não perdemos as linhas vamos substituir os valores.\n",
        "\n",
        "A coluna 'Idade' é númerica então vamos substituir os valores ausentes com a mediana dessa coluna e a coluna 'Embarcou' é categorica e aqui vamos usar a moda para substituir."
      ]
    },
    {
      "cell_type": "markdown",
      "metadata": {
        "id": "ISnpePZD3o0W"
      },
      "source": [
        "Primeiro vamos tratar os dados Númericos e para isso usamos o comano `.describe()` para entender como estão se comportanto os valores dessa coluna."
      ]
    },
    {
      "cell_type": "code",
      "metadata": {
        "id": "OWVqC0uh1MkX",
        "colab": {
          "base_uri": "https://localhost:8080/",
          "height": 177
        },
        "outputId": "e8658da7-f61b-4b46-d751-a0b1e4e9a34f"
      },
      "source": [
        "df1['Idade'].describe()"
      ],
      "execution_count": null,
      "outputs": [
        {
          "output_type": "execute_result",
          "data": {
            "text/plain": [
              "count    714.000000\n",
              "mean      29.699118\n",
              "std       14.526497\n",
              "min        0.420000\n",
              "25%       20.125000\n",
              "50%       28.000000\n",
              "75%       38.000000\n",
              "max       80.000000\n",
              "Name: Idade, dtype: float64"
            ]
          },
          "metadata": {
            "tags": []
          },
          "execution_count": 11
        }
      ]
    },
    {
      "cell_type": "markdown",
      "metadata": {
        "id": "66oJZ3lugfdj"
      },
      "source": [
        "Aqui calculamos a mediana e salvamos em uma variavel."
      ]
    },
    {
      "cell_type": "code",
      "metadata": {
        "id": "BYb1KoP51MvY",
        "colab": {
          "base_uri": "https://localhost:8080/",
          "height": 35
        },
        "outputId": "c87d2ec4-5da5-4984-b1cb-6b500ce81323"
      },
      "source": [
        "mediana =df1['Idade'].median()\n",
        "mediana"
      ],
      "execution_count": null,
      "outputs": [
        {
          "output_type": "execute_result",
          "data": {
            "text/plain": [
              "28.0"
            ]
          },
          "metadata": {
            "tags": []
          },
          "execution_count": 12
        }
      ]
    },
    {
      "cell_type": "markdown",
      "metadata": {
        "id": "fHelA_6Jv0ir"
      },
      "source": [
        "Com o comando `.fillna(mediana,inplace=True)` substituimos os valores ausentes pela mediana e o `inplace=True ` ajuda para que não precise redefinir a varialvel."
      ]
    },
    {
      "cell_type": "code",
      "metadata": {
        "id": "GLMECDqd2XUL"
      },
      "source": [
        "df1['Idade'].fillna(mediana,inplace=True)"
      ],
      "execution_count": null,
      "outputs": []
    },
    {
      "cell_type": "markdown",
      "metadata": {
        "id": "Q3PaBabmwS-q"
      },
      "source": [
        "Agora verificamos se os dados foram substituidos."
      ]
    },
    {
      "cell_type": "code",
      "metadata": {
        "id": "f5D4YTXVgi_d",
        "colab": {
          "base_uri": "https://localhost:8080/",
          "height": 35
        },
        "outputId": "3621a84e-ef27-40a1-83fa-2c8bdf898821"
      },
      "source": [
        "df1['Idade'].isnull().sum() "
      ],
      "execution_count": null,
      "outputs": [
        {
          "output_type": "execute_result",
          "data": {
            "text/plain": [
              "0"
            ]
          },
          "metadata": {
            "tags": []
          },
          "execution_count": 14
        }
      ]
    },
    {
      "cell_type": "markdown",
      "metadata": {
        "id": "ttSDSC8ewbkZ"
      },
      "source": [
        "Lembrando que oque fazemos com dataset de treino devemos fazer com o de teste."
      ]
    },
    {
      "cell_type": "code",
      "metadata": {
        "id": "B1BRWJf21MyL"
      },
      "source": [
        "mediana2 =df2['Idade'].median()\n",
        "df2['Idade'].fillna(mediana2,inplace=True)"
      ],
      "execution_count": null,
      "outputs": []
    },
    {
      "cell_type": "code",
      "metadata": {
        "id": "o1tHfx1f1M07",
        "colab": {
          "base_uri": "https://localhost:8080/",
          "height": 35
        },
        "outputId": "6c6ca57c-0934-43f4-f87b-66854292995a"
      },
      "source": [
        "df2['Idade'].isnull().sum() "
      ],
      "execution_count": null,
      "outputs": [
        {
          "output_type": "execute_result",
          "data": {
            "text/plain": [
              "0"
            ]
          },
          "metadata": {
            "tags": []
          },
          "execution_count": 16
        }
      ]
    },
    {
      "cell_type": "markdown",
      "metadata": {
        "id": "oFQ4iIGG3vkT"
      },
      "source": [
        "Agora os categoricos "
      ]
    },
    {
      "cell_type": "code",
      "metadata": {
        "id": "zDsiwmvT3g5Q",
        "colab": {
          "base_uri": "https://localhost:8080/",
          "height": 106
        },
        "outputId": "552245aa-09e3-437d-e23d-b19e03dc0611"
      },
      "source": [
        "agrupado = df1.groupby(['Embarcou']).size()\n",
        "agrupado"
      ],
      "execution_count": null,
      "outputs": [
        {
          "output_type": "execute_result",
          "data": {
            "text/plain": [
              "Embarcou\n",
              "C    168\n",
              "Q     77\n",
              "S    644\n",
              "dtype: int64"
            ]
          },
          "metadata": {
            "tags": []
          },
          "execution_count": 17
        }
      ]
    },
    {
      "cell_type": "code",
      "metadata": {
        "id": "apSwAKZ93hDV"
      },
      "source": [
        "df1['Embarcou'].fillna('S',inplace=True)"
      ],
      "execution_count": null,
      "outputs": []
    },
    {
      "cell_type": "code",
      "metadata": {
        "id": "Y3VxZfva3hLM",
        "colab": {
          "base_uri": "https://localhost:8080/",
          "height": 35
        },
        "outputId": "a4560f26-c411-4f1f-f11d-8fe545311ef2"
      },
      "source": [
        "df1['Embarcou'].isnull().sum()"
      ],
      "execution_count": null,
      "outputs": [
        {
          "output_type": "execute_result",
          "data": {
            "text/plain": [
              "0"
            ]
          },
          "metadata": {
            "tags": []
          },
          "execution_count": 19
        }
      ]
    },
    {
      "cell_type": "code",
      "metadata": {
        "id": "YLeIXhNN3hVy"
      },
      "source": [
        "agrupado2= df2.groupby(['Embarcou']).size()\n",
        "df1['Embarcou'].fillna('S',inplace=True)"
      ],
      "execution_count": null,
      "outputs": []
    },
    {
      "cell_type": "code",
      "metadata": {
        "id": "7coLi3tD3hQ4",
        "colab": {
          "base_uri": "https://localhost:8080/",
          "height": 195
        },
        "outputId": "c66b395c-0106-4948-ed07-b4e3f1645172"
      },
      "source": [
        "df1.isnull().sum()"
      ],
      "execution_count": null,
      "outputs": [
        {
          "output_type": "execute_result",
          "data": {
            "text/plain": [
              "Pass.Id       0\n",
              "Sobreviveu    0\n",
              "Classe        0\n",
              "Sexo          0\n",
              "Idade         0\n",
              "SibSp         0\n",
              "Parch         0\n",
              "Tarifa        0\n",
              "Embarcou      0\n",
              "dtype: int64"
            ]
          },
          "metadata": {
            "tags": []
          },
          "execution_count": 21
        }
      ]
    },
    {
      "cell_type": "code",
      "metadata": {
        "id": "OH4ZFibC41SU",
        "colab": {
          "base_uri": "https://localhost:8080/",
          "height": 177
        },
        "outputId": "8f43c74b-08f9-4670-d493-22f3c4a69773"
      },
      "source": [
        "mediana2 =df2['Tarifa'].median()\n",
        "df2['Tarifa'].fillna(mediana2,inplace=True)\n",
        "df2.isnull().sum()"
      ],
      "execution_count": null,
      "outputs": [
        {
          "output_type": "execute_result",
          "data": {
            "text/plain": [
              "Pass.Id     0\n",
              "Classe      0\n",
              "Sexo        0\n",
              "Idade       0\n",
              "SibSp       0\n",
              "Parch       0\n",
              "Tarifa      0\n",
              "Embarcou    0\n",
              "dtype: int64"
            ]
          },
          "metadata": {
            "tags": []
          },
          "execution_count": 22
        }
      ]
    },
    {
      "cell_type": "markdown",
      "metadata": {
        "id": "Di3gekER5Lyj"
      },
      "source": [
        "Agora vamos transformar as variaveis categoricas em numericas \n"
      ]
    },
    {
      "cell_type": "code",
      "metadata": {
        "id": "1dySL_kq45H4",
        "colab": {
          "base_uri": "https://localhost:8080/",
          "height": 194
        },
        "outputId": "b2ecbbcb-f322-4022-9176-db7863551e02"
      },
      "source": [
        "df1.head()"
      ],
      "execution_count": null,
      "outputs": [
        {
          "output_type": "execute_result",
          "data": {
            "text/html": [
              "<div>\n",
              "<style scoped>\n",
              "    .dataframe tbody tr th:only-of-type {\n",
              "        vertical-align: middle;\n",
              "    }\n",
              "\n",
              "    .dataframe tbody tr th {\n",
              "        vertical-align: top;\n",
              "    }\n",
              "\n",
              "    .dataframe thead th {\n",
              "        text-align: right;\n",
              "    }\n",
              "</style>\n",
              "<table border=\"1\" class=\"dataframe\">\n",
              "  <thead>\n",
              "    <tr style=\"text-align: right;\">\n",
              "      <th></th>\n",
              "      <th>Pass.Id</th>\n",
              "      <th>Sobreviveu</th>\n",
              "      <th>Classe</th>\n",
              "      <th>Sexo</th>\n",
              "      <th>Idade</th>\n",
              "      <th>SibSp</th>\n",
              "      <th>Parch</th>\n",
              "      <th>Tarifa</th>\n",
              "      <th>Embarcou</th>\n",
              "    </tr>\n",
              "  </thead>\n",
              "  <tbody>\n",
              "    <tr>\n",
              "      <th>0</th>\n",
              "      <td>1</td>\n",
              "      <td>0</td>\n",
              "      <td>3</td>\n",
              "      <td>male</td>\n",
              "      <td>22.0</td>\n",
              "      <td>1</td>\n",
              "      <td>0</td>\n",
              "      <td>7.2500</td>\n",
              "      <td>S</td>\n",
              "    </tr>\n",
              "    <tr>\n",
              "      <th>1</th>\n",
              "      <td>2</td>\n",
              "      <td>1</td>\n",
              "      <td>1</td>\n",
              "      <td>female</td>\n",
              "      <td>38.0</td>\n",
              "      <td>1</td>\n",
              "      <td>0</td>\n",
              "      <td>71.2833</td>\n",
              "      <td>C</td>\n",
              "    </tr>\n",
              "    <tr>\n",
              "      <th>2</th>\n",
              "      <td>3</td>\n",
              "      <td>1</td>\n",
              "      <td>3</td>\n",
              "      <td>female</td>\n",
              "      <td>26.0</td>\n",
              "      <td>0</td>\n",
              "      <td>0</td>\n",
              "      <td>7.9250</td>\n",
              "      <td>S</td>\n",
              "    </tr>\n",
              "    <tr>\n",
              "      <th>3</th>\n",
              "      <td>4</td>\n",
              "      <td>1</td>\n",
              "      <td>1</td>\n",
              "      <td>female</td>\n",
              "      <td>35.0</td>\n",
              "      <td>1</td>\n",
              "      <td>0</td>\n",
              "      <td>53.1000</td>\n",
              "      <td>S</td>\n",
              "    </tr>\n",
              "    <tr>\n",
              "      <th>4</th>\n",
              "      <td>5</td>\n",
              "      <td>0</td>\n",
              "      <td>3</td>\n",
              "      <td>male</td>\n",
              "      <td>35.0</td>\n",
              "      <td>0</td>\n",
              "      <td>0</td>\n",
              "      <td>8.0500</td>\n",
              "      <td>S</td>\n",
              "    </tr>\n",
              "  </tbody>\n",
              "</table>\n",
              "</div>"
            ],
            "text/plain": [
              "   Pass.Id  Sobreviveu  Classe    Sexo  Idade  SibSp  Parch   Tarifa Embarcou\n",
              "0        1           0       3    male   22.0      1      0   7.2500        S\n",
              "1        2           1       1  female   38.0      1      0  71.2833        C\n",
              "2        3           1       3  female   26.0      0      0   7.9250        S\n",
              "3        4           1       1  female   35.0      1      0  53.1000        S\n",
              "4        5           0       3    male   35.0      0      0   8.0500        S"
            ]
          },
          "metadata": {
            "tags": []
          },
          "execution_count": 23
        }
      ]
    },
    {
      "cell_type": "code",
      "metadata": {
        "id": "k7v8X8zt45RW"
      },
      "source": [
        "from sklearn.preprocessing import LabelEncoder "
      ],
      "execution_count": null,
      "outputs": []
    },
    {
      "cell_type": "code",
      "metadata": {
        "id": "13tkrvOg45YQ"
      },
      "source": [
        "labelencoder = LabelEncoder()\n",
        "df1['Sexo']= labelencoder.fit_transform(df1['Sexo'])"
      ],
      "execution_count": null,
      "outputs": []
    },
    {
      "cell_type": "code",
      "metadata": {
        "id": "o4aiml7b7D3o",
        "colab": {
          "base_uri": "https://localhost:8080/",
          "height": 230
        },
        "outputId": "e2af9979-3ca7-4ec0-db9c-f63a5b3a1b22"
      },
      "source": [
        "df1['Sexo']"
      ],
      "execution_count": null,
      "outputs": [
        {
          "output_type": "execute_result",
          "data": {
            "text/plain": [
              "0      1\n",
              "1      0\n",
              "2      0\n",
              "3      0\n",
              "4      1\n",
              "      ..\n",
              "886    1\n",
              "887    0\n",
              "888    0\n",
              "889    1\n",
              "890    1\n",
              "Name: Sexo, Length: 891, dtype: int64"
            ]
          },
          "metadata": {
            "tags": []
          },
          "execution_count": 26
        }
      ]
    },
    {
      "cell_type": "code",
      "metadata": {
        "id": "efT3X5AP7JBq"
      },
      "source": [
        "df1['Embarcou']= labelencoder.fit_transform(df1['Embarcou'])"
      ],
      "execution_count": null,
      "outputs": []
    },
    {
      "cell_type": "code",
      "metadata": {
        "id": "BSNW-5b-7JMU",
        "colab": {
          "base_uri": "https://localhost:8080/",
          "height": 230
        },
        "outputId": "9762faeb-5170-4fa3-d9e1-77b92f68ed9d"
      },
      "source": [
        "df1['Embarcou']"
      ],
      "execution_count": null,
      "outputs": [
        {
          "output_type": "execute_result",
          "data": {
            "text/plain": [
              "0      2\n",
              "1      0\n",
              "2      2\n",
              "3      2\n",
              "4      2\n",
              "      ..\n",
              "886    2\n",
              "887    2\n",
              "888    2\n",
              "889    0\n",
              "890    1\n",
              "Name: Embarcou, Length: 891, dtype: int64"
            ]
          },
          "metadata": {
            "tags": []
          },
          "execution_count": 28
        }
      ]
    },
    {
      "cell_type": "code",
      "metadata": {
        "id": "dw7Qugg57VWf"
      },
      "source": [
        "df2['Sexo']= labelencoder.fit_transform(df2['Sexo'])\n",
        "df2['Embarcou']= labelencoder.fit_transform(df2['Embarcou'])"
      ],
      "execution_count": null,
      "outputs": []
    },
    {
      "cell_type": "code",
      "metadata": {
        "id": "q1KZ2RUI7Vdn",
        "colab": {
          "base_uri": "https://localhost:8080/",
          "height": 194
        },
        "outputId": "48e49218-c91e-4612-847b-7d5c53f90382"
      },
      "source": [
        "df1.head()"
      ],
      "execution_count": null,
      "outputs": [
        {
          "output_type": "execute_result",
          "data": {
            "text/html": [
              "<div>\n",
              "<style scoped>\n",
              "    .dataframe tbody tr th:only-of-type {\n",
              "        vertical-align: middle;\n",
              "    }\n",
              "\n",
              "    .dataframe tbody tr th {\n",
              "        vertical-align: top;\n",
              "    }\n",
              "\n",
              "    .dataframe thead th {\n",
              "        text-align: right;\n",
              "    }\n",
              "</style>\n",
              "<table border=\"1\" class=\"dataframe\">\n",
              "  <thead>\n",
              "    <tr style=\"text-align: right;\">\n",
              "      <th></th>\n",
              "      <th>Pass.Id</th>\n",
              "      <th>Sobreviveu</th>\n",
              "      <th>Classe</th>\n",
              "      <th>Sexo</th>\n",
              "      <th>Idade</th>\n",
              "      <th>SibSp</th>\n",
              "      <th>Parch</th>\n",
              "      <th>Tarifa</th>\n",
              "      <th>Embarcou</th>\n",
              "    </tr>\n",
              "  </thead>\n",
              "  <tbody>\n",
              "    <tr>\n",
              "      <th>0</th>\n",
              "      <td>1</td>\n",
              "      <td>0</td>\n",
              "      <td>3</td>\n",
              "      <td>1</td>\n",
              "      <td>22.0</td>\n",
              "      <td>1</td>\n",
              "      <td>0</td>\n",
              "      <td>7.2500</td>\n",
              "      <td>2</td>\n",
              "    </tr>\n",
              "    <tr>\n",
              "      <th>1</th>\n",
              "      <td>2</td>\n",
              "      <td>1</td>\n",
              "      <td>1</td>\n",
              "      <td>0</td>\n",
              "      <td>38.0</td>\n",
              "      <td>1</td>\n",
              "      <td>0</td>\n",
              "      <td>71.2833</td>\n",
              "      <td>0</td>\n",
              "    </tr>\n",
              "    <tr>\n",
              "      <th>2</th>\n",
              "      <td>3</td>\n",
              "      <td>1</td>\n",
              "      <td>3</td>\n",
              "      <td>0</td>\n",
              "      <td>26.0</td>\n",
              "      <td>0</td>\n",
              "      <td>0</td>\n",
              "      <td>7.9250</td>\n",
              "      <td>2</td>\n",
              "    </tr>\n",
              "    <tr>\n",
              "      <th>3</th>\n",
              "      <td>4</td>\n",
              "      <td>1</td>\n",
              "      <td>1</td>\n",
              "      <td>0</td>\n",
              "      <td>35.0</td>\n",
              "      <td>1</td>\n",
              "      <td>0</td>\n",
              "      <td>53.1000</td>\n",
              "      <td>2</td>\n",
              "    </tr>\n",
              "    <tr>\n",
              "      <th>4</th>\n",
              "      <td>5</td>\n",
              "      <td>0</td>\n",
              "      <td>3</td>\n",
              "      <td>1</td>\n",
              "      <td>35.0</td>\n",
              "      <td>0</td>\n",
              "      <td>0</td>\n",
              "      <td>8.0500</td>\n",
              "      <td>2</td>\n",
              "    </tr>\n",
              "  </tbody>\n",
              "</table>\n",
              "</div>"
            ],
            "text/plain": [
              "   Pass.Id  Sobreviveu  Classe  Sexo  Idade  SibSp  Parch   Tarifa  Embarcou\n",
              "0        1           0       3     1   22.0      1      0   7.2500         2\n",
              "1        2           1       1     0   38.0      1      0  71.2833         0\n",
              "2        3           1       3     0   26.0      0      0   7.9250         2\n",
              "3        4           1       1     0   35.0      1      0  53.1000         2\n",
              "4        5           0       3     1   35.0      0      0   8.0500         2"
            ]
          },
          "metadata": {
            "tags": []
          },
          "execution_count": 30
        }
      ]
    },
    {
      "cell_type": "code",
      "metadata": {
        "id": "hHIn2TKN7glD",
        "colab": {
          "base_uri": "https://localhost:8080/",
          "height": 194
        },
        "outputId": "4c11a723-3b41-45f8-9a53-d3e65884ad9e"
      },
      "source": [
        "df2.head()"
      ],
      "execution_count": null,
      "outputs": [
        {
          "output_type": "execute_result",
          "data": {
            "text/html": [
              "<div>\n",
              "<style scoped>\n",
              "    .dataframe tbody tr th:only-of-type {\n",
              "        vertical-align: middle;\n",
              "    }\n",
              "\n",
              "    .dataframe tbody tr th {\n",
              "        vertical-align: top;\n",
              "    }\n",
              "\n",
              "    .dataframe thead th {\n",
              "        text-align: right;\n",
              "    }\n",
              "</style>\n",
              "<table border=\"1\" class=\"dataframe\">\n",
              "  <thead>\n",
              "    <tr style=\"text-align: right;\">\n",
              "      <th></th>\n",
              "      <th>Pass.Id</th>\n",
              "      <th>Classe</th>\n",
              "      <th>Sexo</th>\n",
              "      <th>Idade</th>\n",
              "      <th>SibSp</th>\n",
              "      <th>Parch</th>\n",
              "      <th>Tarifa</th>\n",
              "      <th>Embarcou</th>\n",
              "    </tr>\n",
              "  </thead>\n",
              "  <tbody>\n",
              "    <tr>\n",
              "      <th>0</th>\n",
              "      <td>892</td>\n",
              "      <td>3</td>\n",
              "      <td>1</td>\n",
              "      <td>34.5</td>\n",
              "      <td>0</td>\n",
              "      <td>0</td>\n",
              "      <td>7.8292</td>\n",
              "      <td>1</td>\n",
              "    </tr>\n",
              "    <tr>\n",
              "      <th>1</th>\n",
              "      <td>893</td>\n",
              "      <td>3</td>\n",
              "      <td>0</td>\n",
              "      <td>47.0</td>\n",
              "      <td>1</td>\n",
              "      <td>0</td>\n",
              "      <td>7.0000</td>\n",
              "      <td>2</td>\n",
              "    </tr>\n",
              "    <tr>\n",
              "      <th>2</th>\n",
              "      <td>894</td>\n",
              "      <td>2</td>\n",
              "      <td>1</td>\n",
              "      <td>62.0</td>\n",
              "      <td>0</td>\n",
              "      <td>0</td>\n",
              "      <td>9.6875</td>\n",
              "      <td>1</td>\n",
              "    </tr>\n",
              "    <tr>\n",
              "      <th>3</th>\n",
              "      <td>895</td>\n",
              "      <td>3</td>\n",
              "      <td>1</td>\n",
              "      <td>27.0</td>\n",
              "      <td>0</td>\n",
              "      <td>0</td>\n",
              "      <td>8.6625</td>\n",
              "      <td>2</td>\n",
              "    </tr>\n",
              "    <tr>\n",
              "      <th>4</th>\n",
              "      <td>896</td>\n",
              "      <td>3</td>\n",
              "      <td>0</td>\n",
              "      <td>22.0</td>\n",
              "      <td>1</td>\n",
              "      <td>1</td>\n",
              "      <td>12.2875</td>\n",
              "      <td>2</td>\n",
              "    </tr>\n",
              "  </tbody>\n",
              "</table>\n",
              "</div>"
            ],
            "text/plain": [
              "   Pass.Id  Classe  Sexo  Idade  SibSp  Parch   Tarifa  Embarcou\n",
              "0      892       3     1   34.5      0      0   7.8292         1\n",
              "1      893       3     0   47.0      1      0   7.0000         2\n",
              "2      894       2     1   62.0      0      0   9.6875         1\n",
              "3      895       3     1   27.0      0      0   8.6625         2\n",
              "4      896       3     0   22.0      1      1  12.2875         2"
            ]
          },
          "metadata": {
            "tags": []
          },
          "execution_count": 31
        }
      ]
    },
    {
      "cell_type": "markdown",
      "metadata": {
        "id": "eaHdiTvx7qZN"
      },
      "source": [
        "## Aplicadando o algoritmo de **ML**"
      ]
    },
    {
      "cell_type": "code",
      "metadata": {
        "id": "DfMzkorT06Qm"
      },
      "source": [
        "from sklearn.model_selection import train_test_split\n",
        "from sklearn.preprocessing import LabelEncoder\n",
        "from sklearn.metrics import confusion_matrix,accuracy_score\n",
        "from sklearn.tree import DecisionTreeClassifier\n",
        "import graphviz\n",
        "from sklearn.tree import export_graphviz"
      ],
      "execution_count": null,
      "outputs": []
    },
    {
      "cell_type": "code",
      "metadata": {
        "id": "XY9gVJVV7kC8",
        "colab": {
          "base_uri": "https://localhost:8080/",
          "height": 399
        },
        "outputId": "769ac6e3-5dcf-4932-d05c-424c0fcdb727"
      },
      "source": [
        "prev = df1.drop(['Sobreviveu'],axis=1)\n",
        "classe = df1['Sobreviveu']\n",
        "prev"
      ],
      "execution_count": null,
      "outputs": [
        {
          "output_type": "execute_result",
          "data": {
            "text/html": [
              "<div>\n",
              "<style scoped>\n",
              "    .dataframe tbody tr th:only-of-type {\n",
              "        vertical-align: middle;\n",
              "    }\n",
              "\n",
              "    .dataframe tbody tr th {\n",
              "        vertical-align: top;\n",
              "    }\n",
              "\n",
              "    .dataframe thead th {\n",
              "        text-align: right;\n",
              "    }\n",
              "</style>\n",
              "<table border=\"1\" class=\"dataframe\">\n",
              "  <thead>\n",
              "    <tr style=\"text-align: right;\">\n",
              "      <th></th>\n",
              "      <th>Pass.Id</th>\n",
              "      <th>Classe</th>\n",
              "      <th>Sexo</th>\n",
              "      <th>Idade</th>\n",
              "      <th>SibSp</th>\n",
              "      <th>Parch</th>\n",
              "      <th>Tarifa</th>\n",
              "      <th>Embarcou</th>\n",
              "    </tr>\n",
              "  </thead>\n",
              "  <tbody>\n",
              "    <tr>\n",
              "      <th>0</th>\n",
              "      <td>1</td>\n",
              "      <td>3</td>\n",
              "      <td>1</td>\n",
              "      <td>22.0</td>\n",
              "      <td>1</td>\n",
              "      <td>0</td>\n",
              "      <td>7.2500</td>\n",
              "      <td>2</td>\n",
              "    </tr>\n",
              "    <tr>\n",
              "      <th>1</th>\n",
              "      <td>2</td>\n",
              "      <td>1</td>\n",
              "      <td>0</td>\n",
              "      <td>38.0</td>\n",
              "      <td>1</td>\n",
              "      <td>0</td>\n",
              "      <td>71.2833</td>\n",
              "      <td>0</td>\n",
              "    </tr>\n",
              "    <tr>\n",
              "      <th>2</th>\n",
              "      <td>3</td>\n",
              "      <td>3</td>\n",
              "      <td>0</td>\n",
              "      <td>26.0</td>\n",
              "      <td>0</td>\n",
              "      <td>0</td>\n",
              "      <td>7.9250</td>\n",
              "      <td>2</td>\n",
              "    </tr>\n",
              "    <tr>\n",
              "      <th>3</th>\n",
              "      <td>4</td>\n",
              "      <td>1</td>\n",
              "      <td>0</td>\n",
              "      <td>35.0</td>\n",
              "      <td>1</td>\n",
              "      <td>0</td>\n",
              "      <td>53.1000</td>\n",
              "      <td>2</td>\n",
              "    </tr>\n",
              "    <tr>\n",
              "      <th>4</th>\n",
              "      <td>5</td>\n",
              "      <td>3</td>\n",
              "      <td>1</td>\n",
              "      <td>35.0</td>\n",
              "      <td>0</td>\n",
              "      <td>0</td>\n",
              "      <td>8.0500</td>\n",
              "      <td>2</td>\n",
              "    </tr>\n",
              "    <tr>\n",
              "      <th>...</th>\n",
              "      <td>...</td>\n",
              "      <td>...</td>\n",
              "      <td>...</td>\n",
              "      <td>...</td>\n",
              "      <td>...</td>\n",
              "      <td>...</td>\n",
              "      <td>...</td>\n",
              "      <td>...</td>\n",
              "    </tr>\n",
              "    <tr>\n",
              "      <th>886</th>\n",
              "      <td>887</td>\n",
              "      <td>2</td>\n",
              "      <td>1</td>\n",
              "      <td>27.0</td>\n",
              "      <td>0</td>\n",
              "      <td>0</td>\n",
              "      <td>13.0000</td>\n",
              "      <td>2</td>\n",
              "    </tr>\n",
              "    <tr>\n",
              "      <th>887</th>\n",
              "      <td>888</td>\n",
              "      <td>1</td>\n",
              "      <td>0</td>\n",
              "      <td>19.0</td>\n",
              "      <td>0</td>\n",
              "      <td>0</td>\n",
              "      <td>30.0000</td>\n",
              "      <td>2</td>\n",
              "    </tr>\n",
              "    <tr>\n",
              "      <th>888</th>\n",
              "      <td>889</td>\n",
              "      <td>3</td>\n",
              "      <td>0</td>\n",
              "      <td>28.0</td>\n",
              "      <td>1</td>\n",
              "      <td>2</td>\n",
              "      <td>23.4500</td>\n",
              "      <td>2</td>\n",
              "    </tr>\n",
              "    <tr>\n",
              "      <th>889</th>\n",
              "      <td>890</td>\n",
              "      <td>1</td>\n",
              "      <td>1</td>\n",
              "      <td>26.0</td>\n",
              "      <td>0</td>\n",
              "      <td>0</td>\n",
              "      <td>30.0000</td>\n",
              "      <td>0</td>\n",
              "    </tr>\n",
              "    <tr>\n",
              "      <th>890</th>\n",
              "      <td>891</td>\n",
              "      <td>3</td>\n",
              "      <td>1</td>\n",
              "      <td>32.0</td>\n",
              "      <td>0</td>\n",
              "      <td>0</td>\n",
              "      <td>7.7500</td>\n",
              "      <td>1</td>\n",
              "    </tr>\n",
              "  </tbody>\n",
              "</table>\n",
              "<p>891 rows × 8 columns</p>\n",
              "</div>"
            ],
            "text/plain": [
              "     Pass.Id  Classe  Sexo  Idade  SibSp  Parch   Tarifa  Embarcou\n",
              "0          1       3     1   22.0      1      0   7.2500         2\n",
              "1          2       1     0   38.0      1      0  71.2833         0\n",
              "2          3       3     0   26.0      0      0   7.9250         2\n",
              "3          4       1     0   35.0      1      0  53.1000         2\n",
              "4          5       3     1   35.0      0      0   8.0500         2\n",
              "..       ...     ...   ...    ...    ...    ...      ...       ...\n",
              "886      887       2     1   27.0      0      0  13.0000         2\n",
              "887      888       1     0   19.0      0      0  30.0000         2\n",
              "888      889       3     0   28.0      1      2  23.4500         2\n",
              "889      890       1     1   26.0      0      0  30.0000         0\n",
              "890      891       3     1   32.0      0      0   7.7500         1\n",
              "\n",
              "[891 rows x 8 columns]"
            ]
          },
          "metadata": {
            "tags": []
          },
          "execution_count": 33
        }
      ]
    },
    {
      "cell_type": "code",
      "metadata": {
        "id": "Q0qFyheN7kLa"
      },
      "source": [
        "x_treino, x_test , y_treino, y_test = train_test_split(prev,\n",
        "                                                       classe,\n",
        "                                                       test_size = 0.3,\n",
        "                                                       random_state = 0) "
      ],
      "execution_count": null,
      "outputs": []
    },
    {
      "cell_type": "code",
      "metadata": {
        "id": "EKKBx3Y67kR_",
        "colab": {
          "base_uri": "https://localhost:8080/",
          "height": 124
        },
        "outputId": "cfcc6c9d-e6f1-400e-ae6a-60b720b84663"
      },
      "source": [
        "arvore = DecisionTreeClassifier()\n",
        "arvore.fit(x_treino,y_treino)"
      ],
      "execution_count": null,
      "outputs": [
        {
          "output_type": "execute_result",
          "data": {
            "text/plain": [
              "DecisionTreeClassifier(ccp_alpha=0.0, class_weight=None, criterion='gini',\n",
              "                       max_depth=None, max_features=None, max_leaf_nodes=None,\n",
              "                       min_impurity_decrease=0.0, min_impurity_split=None,\n",
              "                       min_samples_leaf=1, min_samples_split=2,\n",
              "                       min_weight_fraction_leaf=0.0, presort='deprecated',\n",
              "                       random_state=None, splitter='best')"
            ]
          },
          "metadata": {
            "tags": []
          },
          "execution_count": 35
        }
      ]
    },
    {
      "cell_type": "code",
      "metadata": {
        "id": "ia5WVjJB1Fkh"
      },
      "source": [
        "export_graphviz(arvore, out_file = \"tree.dot\")"
      ],
      "execution_count": null,
      "outputs": []
    },
    {
      "cell_type": "code",
      "metadata": {
        "id": "Bgnr-G2Z1Klc",
        "colab": {
          "base_uri": "https://localhost:8080/",
          "height": 35
        },
        "outputId": "72011745-cc5f-419d-ccd8-a99891ce0eda"
      },
      "source": [
        "previsoes = arvore.predict(x_test)\n",
        "confus = confusion_matrix(y_test,previsoes)\n",
        "taxa_acerto = accuracy_score(y_test,previsoes)\n",
        "taxa_acerto"
      ],
      "execution_count": null,
      "outputs": [
        {
          "output_type": "execute_result",
          "data": {
            "text/plain": [
              "0.75"
            ]
          },
          "metadata": {
            "tags": []
          },
          "execution_count": 37
        }
      ]
    },
    {
      "cell_type": "markdown",
      "metadata": {
        "id": "VnaL9q_EJ3w4"
      },
      "source": [
        "Vamos salvar o modelo "
      ]
    },
    {
      "cell_type": "code",
      "metadata": {
        "id": "PwrSFMGb1Kq_"
      },
      "source": [
        "ids = df2['Pass.Id']\n",
        "predictions = arvore.predict(df2)"
      ],
      "execution_count": null,
      "outputs": []
    },
    {
      "cell_type": "code",
      "metadata": {
        "id": "GGcvyZubJ4zy"
      },
      "source": [
        "submission = pd.DataFrame({ 'PassengerId' : ids, 'Survived': predictions.astype('int64') })\n",
        "submission.to_csv('submission.csv', index=False)"
      ],
      "execution_count": null,
      "outputs": []
    },
    {
      "cell_type": "code",
      "metadata": {
        "id": "eBnad65ZJ42o",
        "colab": {
          "base_uri": "https://localhost:8080/",
          "height": 35
        },
        "outputId": "1d273bdb-224e-4b4f-ff17-688ffd34017a"
      },
      "source": [
        "gabriel = np.array([3,3,0,22,1,1,7.0,2]).reshape(1,-1)\n",
        "gabriel"
      ],
      "execution_count": null,
      "outputs": [
        {
          "output_type": "execute_result",
          "data": {
            "text/plain": [
              "array([[ 3.,  3.,  0., 22.,  1.,  1.,  7.,  2.]])"
            ]
          },
          "metadata": {
            "tags": []
          },
          "execution_count": 53
        }
      ]
    },
    {
      "cell_type": "code",
      "metadata": {
        "id": "EyhT16g6J45r"
      },
      "source": [
        "previsoes = arvore.predict(gabriel)"
      ],
      "execution_count": null,
      "outputs": []
    },
    {
      "cell_type": "code",
      "metadata": {
        "id": "nZWZHHYLJ48W",
        "colab": {
          "base_uri": "https://localhost:8080/",
          "height": 35
        },
        "outputId": "7570bcb9-751e-4aad-b6f4-f7a229939d7a"
      },
      "source": [
        "previsoes"
      ],
      "execution_count": null,
      "outputs": [
        {
          "output_type": "execute_result",
          "data": {
            "text/plain": [
              "array([0])"
            ]
          },
          "metadata": {
            "tags": []
          },
          "execution_count": 59
        }
      ]
    }
  ]
}