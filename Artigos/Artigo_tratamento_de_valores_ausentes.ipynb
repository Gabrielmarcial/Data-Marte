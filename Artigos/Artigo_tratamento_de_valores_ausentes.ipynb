{
  "nbformat": 4,
  "nbformat_minor": 0,
  "metadata": {
    "colab": {
      "name": "Artigo_tratamento_de_valores_ausentes",
      "provenance": []
    },
    "kernelspec": {
      "name": "python3",
      "display_name": "Python 3"
    },
    "language_info": {
      "name": "python"
    }
  },
  "cells": [
    {
      "cell_type": "markdown",
      "source": [
        "#***Tratando Valores ausentes com Python e Pandas***"
      ],
      "metadata": {
        "id": "jWgusn_6pw_W"
      }
    },
    {
      "cell_type": "markdown",
      "source": [
        "Ao **analisar dados** no mundo real é comum se deparar com **dados ausentes** em seu dataset, e muito mais importante que **indentificar esses dados** é saber como tratá-los.\n",
        "\n",
        "Esse tipo de informação costuma ser uma praga em **data science**,principalmente quando estamos trabalhando com [scikit-learn](https://scikit-learn.org/stable/), pois seus estimadores tem dificuldade de processar esses valores.\n",
        "\n",
        "\n",
        "Em muitos casos podemos **excluir ou substituir** esses valores dependendo do seu formato(numericos ou categoritos), mas o importante é sempre enteder o problema que estamos querendo resolver e assim ter um melhor direcionamento de como **tratar nosso dados**. "
      ],
      "metadata": {
        "id": "cf_GTz6up5ba"
      }
    },
    {
      "cell_type": "markdown",
      "source": [
        "### ***Dados***   \n",
        "\n",
        "Neste artigo vamos trabalhar com dois conjuntos de dados para demostrar nossos casos.\n",
        "\n",
        "\n",
        "- [NYC Motor Vehicle Collisions Prediction](https://www.kaggle.com/kukuroo3/nyc-motor-vehicle-collisions-to-person)\n",
        "- [Titanic](https://www.kaggle.com/c/titanic/data)\n",
        "\n",
        "\n"
      ],
      "metadata": {
        "id": "DWunEG3yqVSU"
      }
    },
    {
      "cell_type": "markdown",
      "source": [
        "Carregando os dados, vou importar diretamente do meu [github](https://https://github.com/Gabrielmarcial/Data-Marte), mas caso queria os dados pode baixar diretamente no link acima ou usar os links com o caminho do meu github."
      ],
      "metadata": {
        "id": "-TmKfWTtSNAl"
      }
    },
    {
      "cell_type": "code",
      "source": [
        "import pandas as pd\n",
        "import matplotlib.pyplot as plt\n",
        "import seaborn as sns\n",
        "import numpy as np\n",
        "sns.set_theme()"
      ],
      "metadata": {
        "id": "MzCrAet1SoSo"
      },
      "execution_count": null,
      "outputs": []
    },
    {
      "cell_type": "code",
      "source": [
        "df_titanic = pd.read_csv('https://raw.githubusercontent.com/Gabrielmarcial/Data-Marte/main/datasets/train.csv')\n",
        "df_vehicle = pd.read_csv('https://raw.githubusercontent.com/Gabrielmarcial/Data-Marte/main/datasets/NYC_Motor_Vehicle_Collisions_to_Person.csv')"
      ],
      "metadata": {
        "id": "Ia8LCNRHSJ5B"
      },
      "execution_count": null,
      "outputs": []
    },
    {
      "cell_type": "code",
      "source": [
        "df_titanic.shape"
      ],
      "metadata": {
        "colab": {
          "base_uri": "https://localhost:8080/"
        },
        "id": "17BALN6jolEZ",
        "outputId": "f2068feb-726e-4ee5-fe6d-aa6253b47aca"
      },
      "execution_count": null,
      "outputs": [
        {
          "output_type": "execute_result",
          "data": {
            "text/plain": [
              "(891, 12)"
            ]
          },
          "metadata": {},
          "execution_count": 4
        }
      ]
    },
    {
      "cell_type": "code",
      "source": [
        "df_vehicle.shape"
      ],
      "metadata": {
        "colab": {
          "base_uri": "https://localhost:8080/"
        },
        "id": "9WrHXtfkooO2",
        "outputId": "2016316c-671a-4447-c59d-32c3b6ccdf17"
      },
      "execution_count": null,
      "outputs": [
        {
          "output_type": "execute_result",
          "data": {
            "text/plain": [
              "(45669, 21)"
            ]
          },
          "metadata": {},
          "execution_count": 5
        }
      ]
    },
    {
      "cell_type": "code",
      "source": [
        "df_titanic.head()"
      ],
      "metadata": {
        "colab": {
          "base_uri": "https://localhost:8080/",
          "height": 547
        },
        "id": "DrGo3g9VSMPa",
        "outputId": "cae4111c-5588-4c58-c1de-54ec5b196268"
      },
      "execution_count": null,
      "outputs": [
        {
          "output_type": "execute_result",
          "data": {
            "text/html": [
              "\n",
              "  <div id=\"df-198ba5f7-dfc8-4fc6-ba3c-f898f2cb7d6d\">\n",
              "    <div class=\"colab-df-container\">\n",
              "      <div>\n",
              "<style scoped>\n",
              "    .dataframe tbody tr th:only-of-type {\n",
              "        vertical-align: middle;\n",
              "    }\n",
              "\n",
              "    .dataframe tbody tr th {\n",
              "        vertical-align: top;\n",
              "    }\n",
              "\n",
              "    .dataframe thead th {\n",
              "        text-align: right;\n",
              "    }\n",
              "</style>\n",
              "<table border=\"1\" class=\"dataframe\">\n",
              "  <thead>\n",
              "    <tr style=\"text-align: right;\">\n",
              "      <th></th>\n",
              "      <th>PassengerId</th>\n",
              "      <th>Survived</th>\n",
              "      <th>Pclass</th>\n",
              "      <th>Name</th>\n",
              "      <th>Sex</th>\n",
              "      <th>Age</th>\n",
              "      <th>SibSp</th>\n",
              "      <th>Parch</th>\n",
              "      <th>Ticket</th>\n",
              "      <th>Fare</th>\n",
              "      <th>Cabin</th>\n",
              "      <th>Embarked</th>\n",
              "    </tr>\n",
              "  </thead>\n",
              "  <tbody>\n",
              "    <tr>\n",
              "      <th>0</th>\n",
              "      <td>1</td>\n",
              "      <td>0</td>\n",
              "      <td>3</td>\n",
              "      <td>Braund, Mr. Owen Harris</td>\n",
              "      <td>male</td>\n",
              "      <td>22.0</td>\n",
              "      <td>1</td>\n",
              "      <td>0</td>\n",
              "      <td>A/5 21171</td>\n",
              "      <td>7.2500</td>\n",
              "      <td>NaN</td>\n",
              "      <td>S</td>\n",
              "    </tr>\n",
              "    <tr>\n",
              "      <th>1</th>\n",
              "      <td>2</td>\n",
              "      <td>1</td>\n",
              "      <td>1</td>\n",
              "      <td>Cumings, Mrs. John Bradley (Florence Briggs Th...</td>\n",
              "      <td>female</td>\n",
              "      <td>38.0</td>\n",
              "      <td>1</td>\n",
              "      <td>0</td>\n",
              "      <td>PC 17599</td>\n",
              "      <td>71.2833</td>\n",
              "      <td>C85</td>\n",
              "      <td>C</td>\n",
              "    </tr>\n",
              "    <tr>\n",
              "      <th>2</th>\n",
              "      <td>3</td>\n",
              "      <td>1</td>\n",
              "      <td>3</td>\n",
              "      <td>Heikkinen, Miss. Laina</td>\n",
              "      <td>female</td>\n",
              "      <td>26.0</td>\n",
              "      <td>0</td>\n",
              "      <td>0</td>\n",
              "      <td>STON/O2. 3101282</td>\n",
              "      <td>7.9250</td>\n",
              "      <td>NaN</td>\n",
              "      <td>S</td>\n",
              "    </tr>\n",
              "    <tr>\n",
              "      <th>3</th>\n",
              "      <td>4</td>\n",
              "      <td>1</td>\n",
              "      <td>1</td>\n",
              "      <td>Futrelle, Mrs. Jacques Heath (Lily May Peel)</td>\n",
              "      <td>female</td>\n",
              "      <td>35.0</td>\n",
              "      <td>1</td>\n",
              "      <td>0</td>\n",
              "      <td>113803</td>\n",
              "      <td>53.1000</td>\n",
              "      <td>C123</td>\n",
              "      <td>S</td>\n",
              "    </tr>\n",
              "    <tr>\n",
              "      <th>4</th>\n",
              "      <td>5</td>\n",
              "      <td>0</td>\n",
              "      <td>3</td>\n",
              "      <td>Allen, Mr. William Henry</td>\n",
              "      <td>male</td>\n",
              "      <td>35.0</td>\n",
              "      <td>0</td>\n",
              "      <td>0</td>\n",
              "      <td>373450</td>\n",
              "      <td>8.0500</td>\n",
              "      <td>NaN</td>\n",
              "      <td>S</td>\n",
              "    </tr>\n",
              "  </tbody>\n",
              "</table>\n",
              "</div>\n",
              "      <button class=\"colab-df-convert\" onclick=\"convertToInteractive('df-198ba5f7-dfc8-4fc6-ba3c-f898f2cb7d6d')\"\n",
              "              title=\"Convert this dataframe to an interactive table.\"\n",
              "              style=\"display:none;\">\n",
              "        \n",
              "  <svg xmlns=\"http://www.w3.org/2000/svg\" height=\"24px\"viewBox=\"0 0 24 24\"\n",
              "       width=\"24px\">\n",
              "    <path d=\"M0 0h24v24H0V0z\" fill=\"none\"/>\n",
              "    <path d=\"M18.56 5.44l.94 2.06.94-2.06 2.06-.94-2.06-.94-.94-2.06-.94 2.06-2.06.94zm-11 1L8.5 8.5l.94-2.06 2.06-.94-2.06-.94L8.5 2.5l-.94 2.06-2.06.94zm10 10l.94 2.06.94-2.06 2.06-.94-2.06-.94-.94-2.06-.94 2.06-2.06.94z\"/><path d=\"M17.41 7.96l-1.37-1.37c-.4-.4-.92-.59-1.43-.59-.52 0-1.04.2-1.43.59L10.3 9.45l-7.72 7.72c-.78.78-.78 2.05 0 2.83L4 21.41c.39.39.9.59 1.41.59.51 0 1.02-.2 1.41-.59l7.78-7.78 2.81-2.81c.8-.78.8-2.07 0-2.86zM5.41 20L4 18.59l7.72-7.72 1.47 1.35L5.41 20z\"/>\n",
              "  </svg>\n",
              "      </button>\n",
              "      \n",
              "  <style>\n",
              "    .colab-df-container {\n",
              "      display:flex;\n",
              "      flex-wrap:wrap;\n",
              "      gap: 12px;\n",
              "    }\n",
              "\n",
              "    .colab-df-convert {\n",
              "      background-color: #E8F0FE;\n",
              "      border: none;\n",
              "      border-radius: 50%;\n",
              "      cursor: pointer;\n",
              "      display: none;\n",
              "      fill: #1967D2;\n",
              "      height: 32px;\n",
              "      padding: 0 0 0 0;\n",
              "      width: 32px;\n",
              "    }\n",
              "\n",
              "    .colab-df-convert:hover {\n",
              "      background-color: #E2EBFA;\n",
              "      box-shadow: 0px 1px 2px rgba(60, 64, 67, 0.3), 0px 1px 3px 1px rgba(60, 64, 67, 0.15);\n",
              "      fill: #174EA6;\n",
              "    }\n",
              "\n",
              "    [theme=dark] .colab-df-convert {\n",
              "      background-color: #3B4455;\n",
              "      fill: #D2E3FC;\n",
              "    }\n",
              "\n",
              "    [theme=dark] .colab-df-convert:hover {\n",
              "      background-color: #434B5C;\n",
              "      box-shadow: 0px 1px 3px 1px rgba(0, 0, 0, 0.15);\n",
              "      filter: drop-shadow(0px 1px 2px rgba(0, 0, 0, 0.3));\n",
              "      fill: #FFFFFF;\n",
              "    }\n",
              "  </style>\n",
              "\n",
              "      <script>\n",
              "        const buttonEl =\n",
              "          document.querySelector('#df-198ba5f7-dfc8-4fc6-ba3c-f898f2cb7d6d button.colab-df-convert');\n",
              "        buttonEl.style.display =\n",
              "          google.colab.kernel.accessAllowed ? 'block' : 'none';\n",
              "\n",
              "        async function convertToInteractive(key) {\n",
              "          const element = document.querySelector('#df-198ba5f7-dfc8-4fc6-ba3c-f898f2cb7d6d');\n",
              "          const dataTable =\n",
              "            await google.colab.kernel.invokeFunction('convertToInteractive',\n",
              "                                                     [key], {});\n",
              "          if (!dataTable) return;\n",
              "\n",
              "          const docLinkHtml = 'Like what you see? Visit the ' +\n",
              "            '<a target=\"_blank\" href=https://colab.research.google.com/notebooks/data_table.ipynb>data table notebook</a>'\n",
              "            + ' to learn more about interactive tables.';\n",
              "          element.innerHTML = '';\n",
              "          dataTable['output_type'] = 'display_data';\n",
              "          await google.colab.output.renderOutput(dataTable, element);\n",
              "          const docLink = document.createElement('div');\n",
              "          docLink.innerHTML = docLinkHtml;\n",
              "          element.appendChild(docLink);\n",
              "        }\n",
              "      </script>\n",
              "    </div>\n",
              "  </div>\n",
              "  "
            ],
            "text/plain": [
              "   PassengerId  Survived  Pclass  \\\n",
              "0            1         0       3   \n",
              "1            2         1       1   \n",
              "2            3         1       3   \n",
              "3            4         1       1   \n",
              "4            5         0       3   \n",
              "\n",
              "                                                Name     Sex   Age  SibSp  \\\n",
              "0                            Braund, Mr. Owen Harris    male  22.0      1   \n",
              "1  Cumings, Mrs. John Bradley (Florence Briggs Th...  female  38.0      1   \n",
              "2                             Heikkinen, Miss. Laina  female  26.0      0   \n",
              "3       Futrelle, Mrs. Jacques Heath (Lily May Peel)  female  35.0      1   \n",
              "4                           Allen, Mr. William Henry    male  35.0      0   \n",
              "\n",
              "   Parch            Ticket     Fare Cabin Embarked  \n",
              "0      0         A/5 21171   7.2500   NaN        S  \n",
              "1      0          PC 17599  71.2833   C85        C  \n",
              "2      0  STON/O2. 3101282   7.9250   NaN        S  \n",
              "3      0            113803  53.1000  C123        S  \n",
              "4      0            373450   8.0500   NaN        S  "
            ]
          },
          "metadata": {},
          "execution_count": 3
        }
      ]
    },
    {
      "cell_type": "code",
      "source": [
        "df_vehicle.head()"
      ],
      "metadata": {
        "colab": {
          "base_uri": "https://localhost:8080/",
          "height": 543
        },
        "id": "-OVtroT2TB9B",
        "outputId": "ed82d825-ab06-4b14-e913-9254c63e639a"
      },
      "execution_count": null,
      "outputs": [
        {
          "output_type": "execute_result",
          "data": {
            "text/html": [
              "\n",
              "  <div id=\"df-029216fe-4778-4929-82ad-faf1c1df6175\">\n",
              "    <div class=\"colab-df-container\">\n",
              "      <div>\n",
              "<style scoped>\n",
              "    .dataframe tbody tr th:only-of-type {\n",
              "        vertical-align: middle;\n",
              "    }\n",
              "\n",
              "    .dataframe tbody tr th {\n",
              "        vertical-align: top;\n",
              "    }\n",
              "\n",
              "    .dataframe thead th {\n",
              "        text-align: right;\n",
              "    }\n",
              "</style>\n",
              "<table border=\"1\" class=\"dataframe\">\n",
              "  <thead>\n",
              "    <tr style=\"text-align: right;\">\n",
              "      <th></th>\n",
              "      <th>CRASH_DATE</th>\n",
              "      <th>CRASH_TIME</th>\n",
              "      <th>PERSON_INJURY</th>\n",
              "      <th>PERSON_AGE</th>\n",
              "      <th>BODILY_INJURY</th>\n",
              "      <th>SAFETY_EQUIPMENT</th>\n",
              "      <th>PERSON_SEX</th>\n",
              "      <th>PERSON_TYPE</th>\n",
              "      <th>PED_LOCATION</th>\n",
              "      <th>CONTRIBUTING_FACTOR_2</th>\n",
              "      <th>...</th>\n",
              "      <th>COMPLAINT</th>\n",
              "      <th>EMOTIONAL_STATUS</th>\n",
              "      <th>VEHICLE_ID</th>\n",
              "      <th>PERSON_ID</th>\n",
              "      <th>CONTRIBUTING_FACTOR_1</th>\n",
              "      <th>POSITION_IN_VEHICLE</th>\n",
              "      <th>PED_ROLE</th>\n",
              "      <th>UNIQUE_ID</th>\n",
              "      <th>PED_ACTION</th>\n",
              "      <th>COLLISION_ID</th>\n",
              "    </tr>\n",
              "  </thead>\n",
              "  <tbody>\n",
              "    <tr>\n",
              "      <th>0</th>\n",
              "      <td>2021-05-02</td>\n",
              "      <td>21:00</td>\n",
              "      <td>Killed</td>\n",
              "      <td>62.0</td>\n",
              "      <td>Head</td>\n",
              "      <td>NaN</td>\n",
              "      <td>F</td>\n",
              "      <td>Pedestrian</td>\n",
              "      <td>Pedestrian/Bicyclist/Other Pedestrian at Inter...</td>\n",
              "      <td>Pedestrian/Bicyclist/Other Pedestrian Error/Co...</td>\n",
              "      <td>...</td>\n",
              "      <td>Severe Bleeding</td>\n",
              "      <td>Apparent Death</td>\n",
              "      <td>NaN</td>\n",
              "      <td>f2f329b6-2dfc-4bd0-b751-2e4255f1ea06</td>\n",
              "      <td>Traffic Control Disregarded</td>\n",
              "      <td>NaN</td>\n",
              "      <td>Pedestrian</td>\n",
              "      <td>11791937</td>\n",
              "      <td>Crossing Against Signal</td>\n",
              "      <td>4412948</td>\n",
              "    </tr>\n",
              "    <tr>\n",
              "      <th>1</th>\n",
              "      <td>2021-05-21</td>\n",
              "      <td>0:00</td>\n",
              "      <td>Killed</td>\n",
              "      <td>24.0</td>\n",
              "      <td>Entire Body</td>\n",
              "      <td>Air Bag Deployed</td>\n",
              "      <td>M</td>\n",
              "      <td>Occupant</td>\n",
              "      <td>NaN</td>\n",
              "      <td>NaN</td>\n",
              "      <td>...</td>\n",
              "      <td>Internal</td>\n",
              "      <td>Apparent Death</td>\n",
              "      <td>19986231.0</td>\n",
              "      <td>e27e12a2-0485-4e22-b692-3f8a765d2582</td>\n",
              "      <td>NaN</td>\n",
              "      <td>Driver</td>\n",
              "      <td>Driver</td>\n",
              "      <td>11819198</td>\n",
              "      <td>NaN</td>\n",
              "      <td>4419608</td>\n",
              "    </tr>\n",
              "    <tr>\n",
              "      <th>2</th>\n",
              "      <td>2021-10-15</td>\n",
              "      <td>2:00</td>\n",
              "      <td>Killed</td>\n",
              "      <td>30.0</td>\n",
              "      <td>Head</td>\n",
              "      <td>None</td>\n",
              "      <td>M</td>\n",
              "      <td>Occupant</td>\n",
              "      <td>NaN</td>\n",
              "      <td>NaN</td>\n",
              "      <td>...</td>\n",
              "      <td>Internal</td>\n",
              "      <td>Apparent Death</td>\n",
              "      <td>20091024.0</td>\n",
              "      <td>1a6f5aa7-5125-4be2-8499-fe7977cb0d90</td>\n",
              "      <td>NaN</td>\n",
              "      <td>Driver</td>\n",
              "      <td>Driver</td>\n",
              "      <td>11998317</td>\n",
              "      <td>NaN</td>\n",
              "      <td>4467504</td>\n",
              "    </tr>\n",
              "    <tr>\n",
              "      <th>3</th>\n",
              "      <td>2021-04-17</td>\n",
              "      <td>13:00</td>\n",
              "      <td>Killed</td>\n",
              "      <td>71.0</td>\n",
              "      <td>Head</td>\n",
              "      <td>NaN</td>\n",
              "      <td>M</td>\n",
              "      <td>Pedestrian</td>\n",
              "      <td>Pedestrian/Bicyclist/Other Pedestrian Not at I...</td>\n",
              "      <td>Unspecified</td>\n",
              "      <td>...</td>\n",
              "      <td>Internal</td>\n",
              "      <td>Unconscious</td>\n",
              "      <td>NaN</td>\n",
              "      <td>b950706b-00a4-485c-84c5-777208cc3cc9</td>\n",
              "      <td>Pedestrian/Bicyclist/Other Pedestrian Error/Co...</td>\n",
              "      <td>NaN</td>\n",
              "      <td>Pedestrian</td>\n",
              "      <td>11745791</td>\n",
              "      <td>Crossing, No Signal, or Crosswalk</td>\n",
              "      <td>4408062</td>\n",
              "    </tr>\n",
              "    <tr>\n",
              "      <th>4</th>\n",
              "      <td>2021-05-25</td>\n",
              "      <td>22:00</td>\n",
              "      <td>Killed</td>\n",
              "      <td>69.0</td>\n",
              "      <td>Entire Body</td>\n",
              "      <td>NaN</td>\n",
              "      <td>F</td>\n",
              "      <td>Pedestrian</td>\n",
              "      <td>Pedestrian/Bicyclist/Other Pedestrian Not at I...</td>\n",
              "      <td>Unspecified</td>\n",
              "      <td>...</td>\n",
              "      <td>None Visible</td>\n",
              "      <td>Conscious</td>\n",
              "      <td>NaN</td>\n",
              "      <td>6504ea0a-c92d-444c-8127-284943be9aac</td>\n",
              "      <td>Unspecified</td>\n",
              "      <td>NaN</td>\n",
              "      <td>Pedestrian</td>\n",
              "      <td>11991283</td>\n",
              "      <td>Crossing, No Signal, Marked Crosswalk</td>\n",
              "      <td>4420918</td>\n",
              "    </tr>\n",
              "  </tbody>\n",
              "</table>\n",
              "<p>5 rows × 21 columns</p>\n",
              "</div>\n",
              "      <button class=\"colab-df-convert\" onclick=\"convertToInteractive('df-029216fe-4778-4929-82ad-faf1c1df6175')\"\n",
              "              title=\"Convert this dataframe to an interactive table.\"\n",
              "              style=\"display:none;\">\n",
              "        \n",
              "  <svg xmlns=\"http://www.w3.org/2000/svg\" height=\"24px\"viewBox=\"0 0 24 24\"\n",
              "       width=\"24px\">\n",
              "    <path d=\"M0 0h24v24H0V0z\" fill=\"none\"/>\n",
              "    <path d=\"M18.56 5.44l.94 2.06.94-2.06 2.06-.94-2.06-.94-.94-2.06-.94 2.06-2.06.94zm-11 1L8.5 8.5l.94-2.06 2.06-.94-2.06-.94L8.5 2.5l-.94 2.06-2.06.94zm10 10l.94 2.06.94-2.06 2.06-.94-2.06-.94-.94-2.06-.94 2.06-2.06.94z\"/><path d=\"M17.41 7.96l-1.37-1.37c-.4-.4-.92-.59-1.43-.59-.52 0-1.04.2-1.43.59L10.3 9.45l-7.72 7.72c-.78.78-.78 2.05 0 2.83L4 21.41c.39.39.9.59 1.41.59.51 0 1.02-.2 1.41-.59l7.78-7.78 2.81-2.81c.8-.78.8-2.07 0-2.86zM5.41 20L4 18.59l7.72-7.72 1.47 1.35L5.41 20z\"/>\n",
              "  </svg>\n",
              "      </button>\n",
              "      \n",
              "  <style>\n",
              "    .colab-df-container {\n",
              "      display:flex;\n",
              "      flex-wrap:wrap;\n",
              "      gap: 12px;\n",
              "    }\n",
              "\n",
              "    .colab-df-convert {\n",
              "      background-color: #E8F0FE;\n",
              "      border: none;\n",
              "      border-radius: 50%;\n",
              "      cursor: pointer;\n",
              "      display: none;\n",
              "      fill: #1967D2;\n",
              "      height: 32px;\n",
              "      padding: 0 0 0 0;\n",
              "      width: 32px;\n",
              "    }\n",
              "\n",
              "    .colab-df-convert:hover {\n",
              "      background-color: #E2EBFA;\n",
              "      box-shadow: 0px 1px 2px rgba(60, 64, 67, 0.3), 0px 1px 3px 1px rgba(60, 64, 67, 0.15);\n",
              "      fill: #174EA6;\n",
              "    }\n",
              "\n",
              "    [theme=dark] .colab-df-convert {\n",
              "      background-color: #3B4455;\n",
              "      fill: #D2E3FC;\n",
              "    }\n",
              "\n",
              "    [theme=dark] .colab-df-convert:hover {\n",
              "      background-color: #434B5C;\n",
              "      box-shadow: 0px 1px 3px 1px rgba(0, 0, 0, 0.15);\n",
              "      filter: drop-shadow(0px 1px 2px rgba(0, 0, 0, 0.3));\n",
              "      fill: #FFFFFF;\n",
              "    }\n",
              "  </style>\n",
              "\n",
              "      <script>\n",
              "        const buttonEl =\n",
              "          document.querySelector('#df-029216fe-4778-4929-82ad-faf1c1df6175 button.colab-df-convert');\n",
              "        buttonEl.style.display =\n",
              "          google.colab.kernel.accessAllowed ? 'block' : 'none';\n",
              "\n",
              "        async function convertToInteractive(key) {\n",
              "          const element = document.querySelector('#df-029216fe-4778-4929-82ad-faf1c1df6175');\n",
              "          const dataTable =\n",
              "            await google.colab.kernel.invokeFunction('convertToInteractive',\n",
              "                                                     [key], {});\n",
              "          if (!dataTable) return;\n",
              "\n",
              "          const docLinkHtml = 'Like what you see? Visit the ' +\n",
              "            '<a target=\"_blank\" href=https://colab.research.google.com/notebooks/data_table.ipynb>data table notebook</a>'\n",
              "            + ' to learn more about interactive tables.';\n",
              "          element.innerHTML = '';\n",
              "          dataTable['output_type'] = 'display_data';\n",
              "          await google.colab.output.renderOutput(dataTable, element);\n",
              "          const docLink = document.createElement('div');\n",
              "          docLink.innerHTML = docLinkHtml;\n",
              "          element.appendChild(docLink);\n",
              "        }\n",
              "      </script>\n",
              "    </div>\n",
              "  </div>\n",
              "  "
            ],
            "text/plain": [
              "   CRASH_DATE CRASH_TIME PERSON_INJURY  PERSON_AGE BODILY_INJURY  \\\n",
              "0  2021-05-02      21:00        Killed        62.0          Head   \n",
              "1  2021-05-21       0:00        Killed        24.0   Entire Body   \n",
              "2  2021-10-15       2:00        Killed        30.0          Head   \n",
              "3  2021-04-17      13:00        Killed        71.0          Head   \n",
              "4  2021-05-25      22:00        Killed        69.0   Entire Body   \n",
              "\n",
              "   SAFETY_EQUIPMENT PERSON_SEX PERSON_TYPE  \\\n",
              "0               NaN          F  Pedestrian   \n",
              "1  Air Bag Deployed          M    Occupant   \n",
              "2              None          M    Occupant   \n",
              "3               NaN          M  Pedestrian   \n",
              "4               NaN          F  Pedestrian   \n",
              "\n",
              "                                        PED_LOCATION  \\\n",
              "0  Pedestrian/Bicyclist/Other Pedestrian at Inter...   \n",
              "1                                                NaN   \n",
              "2                                                NaN   \n",
              "3  Pedestrian/Bicyclist/Other Pedestrian Not at I...   \n",
              "4  Pedestrian/Bicyclist/Other Pedestrian Not at I...   \n",
              "\n",
              "                               CONTRIBUTING_FACTOR_2  ...        COMPLAINT  \\\n",
              "0  Pedestrian/Bicyclist/Other Pedestrian Error/Co...  ...  Severe Bleeding   \n",
              "1                                                NaN  ...         Internal   \n",
              "2                                                NaN  ...         Internal   \n",
              "3                                        Unspecified  ...         Internal   \n",
              "4                                        Unspecified  ...     None Visible   \n",
              "\n",
              "  EMOTIONAL_STATUS  VEHICLE_ID                             PERSON_ID  \\\n",
              "0   Apparent Death         NaN  f2f329b6-2dfc-4bd0-b751-2e4255f1ea06   \n",
              "1   Apparent Death  19986231.0  e27e12a2-0485-4e22-b692-3f8a765d2582   \n",
              "2   Apparent Death  20091024.0  1a6f5aa7-5125-4be2-8499-fe7977cb0d90   \n",
              "3      Unconscious         NaN  b950706b-00a4-485c-84c5-777208cc3cc9   \n",
              "4        Conscious         NaN  6504ea0a-c92d-444c-8127-284943be9aac   \n",
              "\n",
              "                               CONTRIBUTING_FACTOR_1 POSITION_IN_VEHICLE  \\\n",
              "0                        Traffic Control Disregarded                 NaN   \n",
              "1                                                NaN              Driver   \n",
              "2                                                NaN              Driver   \n",
              "3  Pedestrian/Bicyclist/Other Pedestrian Error/Co...                 NaN   \n",
              "4                                        Unspecified                 NaN   \n",
              "\n",
              "     PED_ROLE UNIQUE_ID                             PED_ACTION COLLISION_ID  \n",
              "0  Pedestrian  11791937                Crossing Against Signal      4412948  \n",
              "1      Driver  11819198                                    NaN      4419608  \n",
              "2      Driver  11998317                                    NaN      4467504  \n",
              "3  Pedestrian  11745791      Crossing, No Signal, or Crosswalk      4408062  \n",
              "4  Pedestrian  11991283  Crossing, No Signal, Marked Crosswalk      4420918  \n",
              "\n",
              "[5 rows x 21 columns]"
            ]
          },
          "metadata": {},
          "execution_count": 4
        }
      ]
    },
    {
      "cell_type": "markdown",
      "source": [
        "### ***Identificando Valores Ausentes***\n",
        "\n",
        "Os valores ausentes na maioria das vezes indentificamos como  `NaN`, podendo ser substituido por outros valores ou strings, mas o primeiro passo é saber como indentificalos. \n",
        "\n",
        "Podemos indentificalos de duas maneiras, com operação `booleana (True e False) `ou `quantitativo`. "
      ],
      "metadata": {
        "id": "sJYpAsszt_UI"
      }
    },
    {
      "cell_type": "markdown",
      "source": [
        "Com o comando `datafreme.isnull()` mostra de forma booleana os valores ausentes no dataframe."
      ],
      "metadata": {
        "id": "kG_buT3-UIaA"
      }
    },
    {
      "cell_type": "code",
      "source": [
        "df_titanic.isnull()"
      ],
      "metadata": {
        "id": "PFi-JaLFuEso",
        "colab": {
          "base_uri": "https://localhost:8080/",
          "height": 424
        },
        "outputId": "11ad8f86-e362-4c93-bdd2-98ee451d4cb8"
      },
      "execution_count": null,
      "outputs": [
        {
          "output_type": "execute_result",
          "data": {
            "text/html": [
              "\n",
              "  <div id=\"df-1e378b57-5865-4190-b7e2-530bdcdaefc5\">\n",
              "    <div class=\"colab-df-container\">\n",
              "      <div>\n",
              "<style scoped>\n",
              "    .dataframe tbody tr th:only-of-type {\n",
              "        vertical-align: middle;\n",
              "    }\n",
              "\n",
              "    .dataframe tbody tr th {\n",
              "        vertical-align: top;\n",
              "    }\n",
              "\n",
              "    .dataframe thead th {\n",
              "        text-align: right;\n",
              "    }\n",
              "</style>\n",
              "<table border=\"1\" class=\"dataframe\">\n",
              "  <thead>\n",
              "    <tr style=\"text-align: right;\">\n",
              "      <th></th>\n",
              "      <th>PassengerId</th>\n",
              "      <th>Survived</th>\n",
              "      <th>Pclass</th>\n",
              "      <th>Name</th>\n",
              "      <th>Sex</th>\n",
              "      <th>Age</th>\n",
              "      <th>SibSp</th>\n",
              "      <th>Parch</th>\n",
              "      <th>Ticket</th>\n",
              "      <th>Fare</th>\n",
              "      <th>Cabin</th>\n",
              "      <th>Embarked</th>\n",
              "    </tr>\n",
              "  </thead>\n",
              "  <tbody>\n",
              "    <tr>\n",
              "      <th>0</th>\n",
              "      <td>False</td>\n",
              "      <td>False</td>\n",
              "      <td>False</td>\n",
              "      <td>False</td>\n",
              "      <td>False</td>\n",
              "      <td>False</td>\n",
              "      <td>False</td>\n",
              "      <td>False</td>\n",
              "      <td>False</td>\n",
              "      <td>False</td>\n",
              "      <td>True</td>\n",
              "      <td>False</td>\n",
              "    </tr>\n",
              "    <tr>\n",
              "      <th>1</th>\n",
              "      <td>False</td>\n",
              "      <td>False</td>\n",
              "      <td>False</td>\n",
              "      <td>False</td>\n",
              "      <td>False</td>\n",
              "      <td>False</td>\n",
              "      <td>False</td>\n",
              "      <td>False</td>\n",
              "      <td>False</td>\n",
              "      <td>False</td>\n",
              "      <td>False</td>\n",
              "      <td>False</td>\n",
              "    </tr>\n",
              "    <tr>\n",
              "      <th>2</th>\n",
              "      <td>False</td>\n",
              "      <td>False</td>\n",
              "      <td>False</td>\n",
              "      <td>False</td>\n",
              "      <td>False</td>\n",
              "      <td>False</td>\n",
              "      <td>False</td>\n",
              "      <td>False</td>\n",
              "      <td>False</td>\n",
              "      <td>False</td>\n",
              "      <td>True</td>\n",
              "      <td>False</td>\n",
              "    </tr>\n",
              "    <tr>\n",
              "      <th>3</th>\n",
              "      <td>False</td>\n",
              "      <td>False</td>\n",
              "      <td>False</td>\n",
              "      <td>False</td>\n",
              "      <td>False</td>\n",
              "      <td>False</td>\n",
              "      <td>False</td>\n",
              "      <td>False</td>\n",
              "      <td>False</td>\n",
              "      <td>False</td>\n",
              "      <td>False</td>\n",
              "      <td>False</td>\n",
              "    </tr>\n",
              "    <tr>\n",
              "      <th>4</th>\n",
              "      <td>False</td>\n",
              "      <td>False</td>\n",
              "      <td>False</td>\n",
              "      <td>False</td>\n",
              "      <td>False</td>\n",
              "      <td>False</td>\n",
              "      <td>False</td>\n",
              "      <td>False</td>\n",
              "      <td>False</td>\n",
              "      <td>False</td>\n",
              "      <td>True</td>\n",
              "      <td>False</td>\n",
              "    </tr>\n",
              "    <tr>\n",
              "      <th>...</th>\n",
              "      <td>...</td>\n",
              "      <td>...</td>\n",
              "      <td>...</td>\n",
              "      <td>...</td>\n",
              "      <td>...</td>\n",
              "      <td>...</td>\n",
              "      <td>...</td>\n",
              "      <td>...</td>\n",
              "      <td>...</td>\n",
              "      <td>...</td>\n",
              "      <td>...</td>\n",
              "      <td>...</td>\n",
              "    </tr>\n",
              "    <tr>\n",
              "      <th>886</th>\n",
              "      <td>False</td>\n",
              "      <td>False</td>\n",
              "      <td>False</td>\n",
              "      <td>False</td>\n",
              "      <td>False</td>\n",
              "      <td>False</td>\n",
              "      <td>False</td>\n",
              "      <td>False</td>\n",
              "      <td>False</td>\n",
              "      <td>False</td>\n",
              "      <td>True</td>\n",
              "      <td>False</td>\n",
              "    </tr>\n",
              "    <tr>\n",
              "      <th>887</th>\n",
              "      <td>False</td>\n",
              "      <td>False</td>\n",
              "      <td>False</td>\n",
              "      <td>False</td>\n",
              "      <td>False</td>\n",
              "      <td>False</td>\n",
              "      <td>False</td>\n",
              "      <td>False</td>\n",
              "      <td>False</td>\n",
              "      <td>False</td>\n",
              "      <td>False</td>\n",
              "      <td>False</td>\n",
              "    </tr>\n",
              "    <tr>\n",
              "      <th>888</th>\n",
              "      <td>False</td>\n",
              "      <td>False</td>\n",
              "      <td>False</td>\n",
              "      <td>False</td>\n",
              "      <td>False</td>\n",
              "      <td>True</td>\n",
              "      <td>False</td>\n",
              "      <td>False</td>\n",
              "      <td>False</td>\n",
              "      <td>False</td>\n",
              "      <td>True</td>\n",
              "      <td>False</td>\n",
              "    </tr>\n",
              "    <tr>\n",
              "      <th>889</th>\n",
              "      <td>False</td>\n",
              "      <td>False</td>\n",
              "      <td>False</td>\n",
              "      <td>False</td>\n",
              "      <td>False</td>\n",
              "      <td>False</td>\n",
              "      <td>False</td>\n",
              "      <td>False</td>\n",
              "      <td>False</td>\n",
              "      <td>False</td>\n",
              "      <td>False</td>\n",
              "      <td>False</td>\n",
              "    </tr>\n",
              "    <tr>\n",
              "      <th>890</th>\n",
              "      <td>False</td>\n",
              "      <td>False</td>\n",
              "      <td>False</td>\n",
              "      <td>False</td>\n",
              "      <td>False</td>\n",
              "      <td>False</td>\n",
              "      <td>False</td>\n",
              "      <td>False</td>\n",
              "      <td>False</td>\n",
              "      <td>False</td>\n",
              "      <td>True</td>\n",
              "      <td>False</td>\n",
              "    </tr>\n",
              "  </tbody>\n",
              "</table>\n",
              "<p>891 rows × 12 columns</p>\n",
              "</div>\n",
              "      <button class=\"colab-df-convert\" onclick=\"convertToInteractive('df-1e378b57-5865-4190-b7e2-530bdcdaefc5')\"\n",
              "              title=\"Convert this dataframe to an interactive table.\"\n",
              "              style=\"display:none;\">\n",
              "        \n",
              "  <svg xmlns=\"http://www.w3.org/2000/svg\" height=\"24px\"viewBox=\"0 0 24 24\"\n",
              "       width=\"24px\">\n",
              "    <path d=\"M0 0h24v24H0V0z\" fill=\"none\"/>\n",
              "    <path d=\"M18.56 5.44l.94 2.06.94-2.06 2.06-.94-2.06-.94-.94-2.06-.94 2.06-2.06.94zm-11 1L8.5 8.5l.94-2.06 2.06-.94-2.06-.94L8.5 2.5l-.94 2.06-2.06.94zm10 10l.94 2.06.94-2.06 2.06-.94-2.06-.94-.94-2.06-.94 2.06-2.06.94z\"/><path d=\"M17.41 7.96l-1.37-1.37c-.4-.4-.92-.59-1.43-.59-.52 0-1.04.2-1.43.59L10.3 9.45l-7.72 7.72c-.78.78-.78 2.05 0 2.83L4 21.41c.39.39.9.59 1.41.59.51 0 1.02-.2 1.41-.59l7.78-7.78 2.81-2.81c.8-.78.8-2.07 0-2.86zM5.41 20L4 18.59l7.72-7.72 1.47 1.35L5.41 20z\"/>\n",
              "  </svg>\n",
              "      </button>\n",
              "      \n",
              "  <style>\n",
              "    .colab-df-container {\n",
              "      display:flex;\n",
              "      flex-wrap:wrap;\n",
              "      gap: 12px;\n",
              "    }\n",
              "\n",
              "    .colab-df-convert {\n",
              "      background-color: #E8F0FE;\n",
              "      border: none;\n",
              "      border-radius: 50%;\n",
              "      cursor: pointer;\n",
              "      display: none;\n",
              "      fill: #1967D2;\n",
              "      height: 32px;\n",
              "      padding: 0 0 0 0;\n",
              "      width: 32px;\n",
              "    }\n",
              "\n",
              "    .colab-df-convert:hover {\n",
              "      background-color: #E2EBFA;\n",
              "      box-shadow: 0px 1px 2px rgba(60, 64, 67, 0.3), 0px 1px 3px 1px rgba(60, 64, 67, 0.15);\n",
              "      fill: #174EA6;\n",
              "    }\n",
              "\n",
              "    [theme=dark] .colab-df-convert {\n",
              "      background-color: #3B4455;\n",
              "      fill: #D2E3FC;\n",
              "    }\n",
              "\n",
              "    [theme=dark] .colab-df-convert:hover {\n",
              "      background-color: #434B5C;\n",
              "      box-shadow: 0px 1px 3px 1px rgba(0, 0, 0, 0.15);\n",
              "      filter: drop-shadow(0px 1px 2px rgba(0, 0, 0, 0.3));\n",
              "      fill: #FFFFFF;\n",
              "    }\n",
              "  </style>\n",
              "\n",
              "      <script>\n",
              "        const buttonEl =\n",
              "          document.querySelector('#df-1e378b57-5865-4190-b7e2-530bdcdaefc5 button.colab-df-convert');\n",
              "        buttonEl.style.display =\n",
              "          google.colab.kernel.accessAllowed ? 'block' : 'none';\n",
              "\n",
              "        async function convertToInteractive(key) {\n",
              "          const element = document.querySelector('#df-1e378b57-5865-4190-b7e2-530bdcdaefc5');\n",
              "          const dataTable =\n",
              "            await google.colab.kernel.invokeFunction('convertToInteractive',\n",
              "                                                     [key], {});\n",
              "          if (!dataTable) return;\n",
              "\n",
              "          const docLinkHtml = 'Like what you see? Visit the ' +\n",
              "            '<a target=\"_blank\" href=https://colab.research.google.com/notebooks/data_table.ipynb>data table notebook</a>'\n",
              "            + ' to learn more about interactive tables.';\n",
              "          element.innerHTML = '';\n",
              "          dataTable['output_type'] = 'display_data';\n",
              "          await google.colab.output.renderOutput(dataTable, element);\n",
              "          const docLink = document.createElement('div');\n",
              "          docLink.innerHTML = docLinkHtml;\n",
              "          element.appendChild(docLink);\n",
              "        }\n",
              "      </script>\n",
              "    </div>\n",
              "  </div>\n",
              "  "
            ],
            "text/plain": [
              "     PassengerId  Survived  Pclass   Name    Sex    Age  SibSp  Parch  Ticket  \\\n",
              "0          False     False   False  False  False  False  False  False   False   \n",
              "1          False     False   False  False  False  False  False  False   False   \n",
              "2          False     False   False  False  False  False  False  False   False   \n",
              "3          False     False   False  False  False  False  False  False   False   \n",
              "4          False     False   False  False  False  False  False  False   False   \n",
              "..           ...       ...     ...    ...    ...    ...    ...    ...     ...   \n",
              "886        False     False   False  False  False  False  False  False   False   \n",
              "887        False     False   False  False  False  False  False  False   False   \n",
              "888        False     False   False  False  False   True  False  False   False   \n",
              "889        False     False   False  False  False  False  False  False   False   \n",
              "890        False     False   False  False  False  False  False  False   False   \n",
              "\n",
              "      Fare  Cabin  Embarked  \n",
              "0    False   True     False  \n",
              "1    False  False     False  \n",
              "2    False   True     False  \n",
              "3    False  False     False  \n",
              "4    False   True     False  \n",
              "..     ...    ...       ...  \n",
              "886  False   True     False  \n",
              "887  False  False     False  \n",
              "888  False   True     False  \n",
              "889  False  False     False  \n",
              "890  False   True     False  \n",
              "\n",
              "[891 rows x 12 columns]"
            ]
          },
          "metadata": {},
          "execution_count": 6
        }
      ]
    },
    {
      "cell_type": "markdown",
      "source": [
        "Com retorno valores booleanos não é muito útli para analisar e tratar esses dados, com isso usamos junto com ele o `.sum()` ."
      ],
      "metadata": {
        "id": "dS5AbAnVUbeI"
      }
    },
    {
      "cell_type": "code",
      "execution_count": null,
      "metadata": {
        "id": "vJlKb-W8pgsR",
        "colab": {
          "base_uri": "https://localhost:8080/"
        },
        "outputId": "73c83743-4f06-4cbd-9fdd-17df737ebc9d"
      },
      "outputs": [
        {
          "output_type": "execute_result",
          "data": {
            "text/plain": [
              "PassengerId      0\n",
              "Survived         0\n",
              "Pclass           0\n",
              "Name             0\n",
              "Sex              0\n",
              "Age            177\n",
              "SibSp            0\n",
              "Parch            0\n",
              "Ticket           0\n",
              "Fare             0\n",
              "Cabin          687\n",
              "Embarked         2\n",
              "dtype: int64"
            ]
          },
          "metadata": {},
          "execution_count": 8
        }
      ],
      "source": [
        "df_titanic.isnull().sum()"
      ]
    },
    {
      "cell_type": "markdown",
      "source": [
        "Nesse comando ele pega a quantidade de valores em cada coluna e retorna a quantidade de `True`, assim conseguimos ter uma noção dos valores ausentes por coluna. "
      ],
      "metadata": {
        "id": "R-ZJetqmWGUw"
      }
    },
    {
      "cell_type": "markdown",
      "source": [
        "Com o dataset do Titanic já verificamos que as colunas `'Age','Cabin','Embarked`' estão com respectivamente 177,687 e 2 **valores ausentes**. "
      ],
      "metadata": {
        "id": "lhZfgB-jWj3J"
      }
    },
    {
      "cell_type": "markdown",
      "source": [
        "Agora com o dataset de veiculos."
      ],
      "metadata": {
        "id": "y_ABjc4zW6nf"
      }
    },
    {
      "cell_type": "code",
      "source": [
        "df_vehicle.isnull().sum()"
      ],
      "metadata": {
        "colab": {
          "base_uri": "https://localhost:8080/"
        },
        "id": "5Lr47h8RV9fs",
        "outputId": "331454ae-cb53-405c-c427-5662103c9f69"
      },
      "execution_count": null,
      "outputs": [
        {
          "output_type": "execute_result",
          "data": {
            "text/plain": [
              "CRASH_DATE                   0\n",
              "CRASH_TIME                   0\n",
              "PERSON_INJURY                0\n",
              "PERSON_AGE                 421\n",
              "BODILY_INJURY                0\n",
              "SAFETY_EQUIPMENT          6235\n",
              "PERSON_SEX                   0\n",
              "PERSON_TYPE                  0\n",
              "PED_LOCATION             39098\n",
              "CONTRIBUTING_FACTOR_2    39123\n",
              "EJECTION                  6240\n",
              "COMPLAINT                    0\n",
              "EMOTIONAL_STATUS             0\n",
              "VEHICLE_ID                6571\n",
              "PERSON_ID                    0\n",
              "CONTRIBUTING_FACTOR_1    39111\n",
              "POSITION_IN_VEHICLE       6221\n",
              "PED_ROLE                     0\n",
              "UNIQUE_ID                    0\n",
              "PED_ACTION               39098\n",
              "COLLISION_ID                 0\n",
              "dtype: int64"
            ]
          },
          "metadata": {},
          "execution_count": 9
        }
      ]
    },
    {
      "cell_type": "markdown",
      "source": [
        "Outra forma de **visualizar esses dados** é de **forma gráfica**, vamos usar seaborn e um gráfico de barras para representar esses dados."
      ],
      "metadata": {
        "id": "k3SozWpHXzDY"
      }
    },
    {
      "cell_type": "markdown",
      "source": [
        "Aqui vou construir uma função para gerer esse gráfico separando as coolunas com valores ausentes e seus respectivos nomes."
      ],
      "metadata": {
        "id": "9-XoKmZ7YfGF"
      }
    },
    {
      "cell_type": "code",
      "source": [
        "def missing_visualization(df):\n",
        "  quant_isnull = df.isnull().sum()\n",
        "  columns = df.columns\n",
        "  \n",
        "  dic = {'colunas':[],'quant_isnull':[]}\n",
        "  for coluna,quant in zip(columns,quant_isnull):\n",
        "    if quant > 0:\n",
        "      dic['colunas'].append(quant)\n",
        "      dic['quant_isnull'].append(coluna)\n",
        "\n",
        "  df = pd.DataFrame(dic)\n",
        "\n",
        "  plt.figure(figsize=(15,5))\n",
        "  sns.barplot(x=df['quant_isnull'],y=df['colunas'],data=df)\n",
        "  plt.xticks(rotation=45);\n"
      ],
      "metadata": {
        "id": "49ocSsdYXzIq"
      },
      "execution_count": null,
      "outputs": []
    },
    {
      "cell_type": "code",
      "source": [
        "missing_visualization(df_titanic)"
      ],
      "metadata": {
        "colab": {
          "base_uri": "https://localhost:8080/",
          "height": 286
        },
        "id": "BXeMcoAydG0X",
        "outputId": "11fd4510-5321-4f5c-9415-bc6080e31e50"
      },
      "execution_count": null,
      "outputs": [
        {
          "output_type": "display_data",
          "data": {
            "image/png": "[encoded data removed]",
            "text/plain": [
              "<Figure size 1080x360 with 1 Axes>"
            ]
          },
          "metadata": {
            "needs_background": "light"
          }
        }
      ]
    },
    {
      "cell_type": "code",
      "source": [
        "missing_visualization(df_vehicle)"
      ],
      "metadata": {
        "colab": {
          "base_uri": "https://localhost:8080/",
          "height": 329
        },
        "id": "AKu32A1Leue4",
        "outputId": "be27ab28-c44b-4e9c-9b22-65829299c70c"
      },
      "execution_count": null,
      "outputs": [
        {
          "output_type": "display_data",
          "data": {
            "image/png": "[encoded data removed]",
            "text/plain": [
              "<Figure size 1080x360 with 1 Axes>"
            ]
          },
          "metadata": {
            "needs_background": "light"
          }
        }
      ]
    },
    {
      "cell_type": "markdown",
      "source": [
        "## ***Tratando Valores Ausentes***"
      ],
      "metadata": {
        "id": "ECKQxPI3uFdB"
      }
    },
    {
      "cell_type": "markdown",
      "source": [
        "### ***Descartando Valores ausenstes*** \n",
        "\n",
        "- **Coluna com grande quantidade de dados Faltantes** : Nesse caso como a quantidade é muito grande de **85% a 90%** (quantidade que costumo usar) o ideal é excluir pois a quantidade de valores é muito grande em relação a quantidade de dados.\n",
        "\n",
        "- **Linha com grande quantidade de dados Faltantes:** Nessa caso acima de 50% seria interessante retirar aquela linha. \n",
        "\n",
        "Lembrando que cada caso deve ser analisado com cuidado, pois estamos excluindo valores, como em caso de  base de clientes ou alunos não seria interessante sumir com eles, então sempre analise seu problema. \n"
      ],
      "metadata": {
        "id": "icnhtwmUun6E"
      }
    },
    {
      "cell_type": "markdown",
      "source": [
        "Primeiro vamos aprender como identificar as **colunas** com uma grande quantidade de **valores ausentes**."
      ],
      "metadata": {
        "id": "dWgCs1yw3ZBf"
      }
    },
    {
      "cell_type": "code",
      "source": [
        "limite = df_vehicle.shape[0]*0.85\n",
        "\n",
        "drop_columns = []\n",
        "\n",
        "quant_isnull = df_vehicle.isnull().sum()\n",
        "columns = df_vehicle.columns\n",
        "for q,c in zip(quant_isnull,columns):\n",
        "  if q >= limite :\n",
        "    drop_columns.append(c)\n",
        "\n",
        "drop_columns"
      ],
      "metadata": {
        "id": "VkKrR8JYXg61",
        "colab": {
          "base_uri": "https://localhost:8080/"
        },
        "outputId": "aa425240-d942-467d-f4b0-9ed4bb121d26"
      },
      "execution_count": null,
      "outputs": [
        {
          "output_type": "execute_result",
          "data": {
            "text/plain": [
              "['PED_LOCATION',\n",
              " 'CONTRIBUTING_FACTOR_2',\n",
              " 'CONTRIBUTING_FACTOR_1',\n",
              " 'PED_ACTION']"
            ]
          },
          "metadata": {},
          "execution_count": 19
        }
      ]
    },
    {
      "cell_type": "markdown",
      "source": [
        "Então eu criei um valor limite para identificarmos os valores faltantes acima dele e salvei os nomes na variavel drop_columns.\n",
        "\n",
        "Para **Excluir colunas** vamos usar o comando :\n",
        "\n",
        "```\n",
        "df.drop(columns=['nome_da_coluna'],inplace=True)\n",
        "```"
      ],
      "metadata": {
        "id": "k4C0c2WK5zTD"
      }
    },
    {
      "cell_type": "code",
      "source": [
        "df_vehicle.drop(columns=drop_columns,inplace=True)"
      ],
      "metadata": {
        "id": "yDkZEnv650X7"
      },
      "execution_count": null,
      "outputs": []
    },
    {
      "cell_type": "code",
      "source": [
        "df_vehicle.shape"
      ],
      "metadata": {
        "colab": {
          "base_uri": "https://localhost:8080/"
        },
        "id": "8jSV5oxaAQT1",
        "outputId": "e21fe923-4e79-4567-a22a-2f1f2f72924d"
      },
      "execution_count": null,
      "outputs": [
        {
          "output_type": "execute_result",
          "data": {
            "text/plain": [
              "(45669, 17)"
            ]
          },
          "metadata": {},
          "execution_count": 31
        }
      ]
    },
    {
      "cell_type": "markdown",
      "source": [
        "verificando o shape conseguimos identificar que as colunas foram excluidas, pois passou de 22 para 17 colunas."
      ],
      "metadata": {
        "id": "qQZAWoZPd_S6"
      }
    },
    {
      "cell_type": "markdown",
      "source": [
        "\n",
        "e para as **linhas** com Valores faltantes vamos usar o comando abaixo, \n",
        "o parâmetro `thresh` serve para definir a quantidade de valores limite que uma linha pode ter de valores faltantes. \n",
        "\n",
        "\n",
        "```\n",
        "df.dropna(thresh=None,axis=0,inplace=True)\n",
        "```"
      ],
      "metadata": {
        "id": "_cUqhzasv6ky"
      }
    },
    {
      "cell_type": "markdown",
      "source": [
        "Nas duas bases de dados não temos nenhuma linha com uma quantidade de 50% ou mais valores ausentes, então vou usar um exemplo da propria documentação do pandas para demostrar."
      ],
      "metadata": {
        "id": "lxw2EmSW_7jO"
      }
    },
    {
      "cell_type": "code",
      "source": [
        "df = pd.DataFrame({\"name\": ['Alfred', 'Batman', 'Catwoman'],\n",
        "                   \"toy\": [np.nan, 'Batmobile', 'Bullwhip'],\n",
        "                   \"born\": [pd.NaT, pd.Timestamp(\"1940-04-25\"),\n",
        "                            pd.NaT]})\n",
        "df"
      ],
      "metadata": {
        "colab": {
          "base_uri": "https://localhost:8080/",
          "height": 143
        },
        "id": "Iuhqx3y7hIpu",
        "outputId": "f48c425f-8d74-4f0d-d4e2-3af4961057ea"
      },
      "execution_count": null,
      "outputs": [
        {
          "output_type": "execute_result",
          "data": {
            "text/plain": [
              "       name        toy       born\n",
              "0    Alfred        NaN        NaT\n",
              "1    Batman  Batmobile 1940-04-25\n",
              "2  Catwoman   Bullwhip        NaT"
            ],
            "text/html": [
              "\n",
              "  <div id=\"df-226761ee-5d9b-416d-8b37-1cee7584a099\">\n",
              "    <div class=\"colab-df-container\">\n",
              "      <div>\n",
              "<style scoped>\n",
              "    .dataframe tbody tr th:only-of-type {\n",
              "        vertical-align: middle;\n",
              "    }\n",
              "\n",
              "    .dataframe tbody tr th {\n",
              "        vertical-align: top;\n",
              "    }\n",
              "\n",
              "    .dataframe thead th {\n",
              "        text-align: right;\n",
              "    }\n",
              "</style>\n",
              "<table border=\"1\" class=\"dataframe\">\n",
              "  <thead>\n",
              "    <tr style=\"text-align: right;\">\n",
              "      <th></th>\n",
              "      <th>name</th>\n",
              "      <th>toy</th>\n",
              "      <th>born</th>\n",
              "    </tr>\n",
              "  </thead>\n",
              "  <tbody>\n",
              "    <tr>\n",
              "      <th>0</th>\n",
              "      <td>Alfred</td>\n",
              "      <td>NaN</td>\n",
              "      <td>NaT</td>\n",
              "    </tr>\n",
              "    <tr>\n",
              "      <th>1</th>\n",
              "      <td>Batman</td>\n",
              "      <td>Batmobile</td>\n",
              "      <td>1940-04-25</td>\n",
              "    </tr>\n",
              "    <tr>\n",
              "      <th>2</th>\n",
              "      <td>Catwoman</td>\n",
              "      <td>Bullwhip</td>\n",
              "      <td>NaT</td>\n",
              "    </tr>\n",
              "  </tbody>\n",
              "</table>\n",
              "</div>\n",
              "      <button class=\"colab-df-convert\" onclick=\"convertToInteractive('df-226761ee-5d9b-416d-8b37-1cee7584a099')\"\n",
              "              title=\"Convert this dataframe to an interactive table.\"\n",
              "              style=\"display:none;\">\n",
              "        \n",
              "  <svg xmlns=\"http://www.w3.org/2000/svg\" height=\"24px\"viewBox=\"0 0 24 24\"\n",
              "       width=\"24px\">\n",
              "    <path d=\"M0 0h24v24H0V0z\" fill=\"none\"/>\n",
              "    <path d=\"M18.56 5.44l.94 2.06.94-2.06 2.06-.94-2.06-.94-.94-2.06-.94 2.06-2.06.94zm-11 1L8.5 8.5l.94-2.06 2.06-.94-2.06-.94L8.5 2.5l-.94 2.06-2.06.94zm10 10l.94 2.06.94-2.06 2.06-.94-2.06-.94-.94-2.06-.94 2.06-2.06.94z\"/><path d=\"M17.41 7.96l-1.37-1.37c-.4-.4-.92-.59-1.43-.59-.52 0-1.04.2-1.43.59L10.3 9.45l-7.72 7.72c-.78.78-.78 2.05 0 2.83L4 21.41c.39.39.9.59 1.41.59.51 0 1.02-.2 1.41-.59l7.78-7.78 2.81-2.81c.8-.78.8-2.07 0-2.86zM5.41 20L4 18.59l7.72-7.72 1.47 1.35L5.41 20z\"/>\n",
              "  </svg>\n",
              "      </button>\n",
              "      \n",
              "  <style>\n",
              "    .colab-df-container {\n",
              "      display:flex;\n",
              "      flex-wrap:wrap;\n",
              "      gap: 12px;\n",
              "    }\n",
              "\n",
              "    .colab-df-convert {\n",
              "      background-color: #E8F0FE;\n",
              "      border: none;\n",
              "      border-radius: 50%;\n",
              "      cursor: pointer;\n",
              "      display: none;\n",
              "      fill: #1967D2;\n",
              "      height: 32px;\n",
              "      padding: 0 0 0 0;\n",
              "      width: 32px;\n",
              "    }\n",
              "\n",
              "    .colab-df-convert:hover {\n",
              "      background-color: #E2EBFA;\n",
              "      box-shadow: 0px 1px 2px rgba(60, 64, 67, 0.3), 0px 1px 3px 1px rgba(60, 64, 67, 0.15);\n",
              "      fill: #174EA6;\n",
              "    }\n",
              "\n",
              "    [theme=dark] .colab-df-convert {\n",
              "      background-color: #3B4455;\n",
              "      fill: #D2E3FC;\n",
              "    }\n",
              "\n",
              "    [theme=dark] .colab-df-convert:hover {\n",
              "      background-color: #434B5C;\n",
              "      box-shadow: 0px 1px 3px 1px rgba(0, 0, 0, 0.15);\n",
              "      filter: drop-shadow(0px 1px 2px rgba(0, 0, 0, 0.3));\n",
              "      fill: #FFFFFF;\n",
              "    }\n",
              "  </style>\n",
              "\n",
              "      <script>\n",
              "        const buttonEl =\n",
              "          document.querySelector('#df-226761ee-5d9b-416d-8b37-1cee7584a099 button.colab-df-convert');\n",
              "        buttonEl.style.display =\n",
              "          google.colab.kernel.accessAllowed ? 'block' : 'none';\n",
              "\n",
              "        async function convertToInteractive(key) {\n",
              "          const element = document.querySelector('#df-226761ee-5d9b-416d-8b37-1cee7584a099');\n",
              "          const dataTable =\n",
              "            await google.colab.kernel.invokeFunction('convertToInteractive',\n",
              "                                                     [key], {});\n",
              "          if (!dataTable) return;\n",
              "\n",
              "          const docLinkHtml = 'Like what you see? Visit the ' +\n",
              "            '<a target=\"_blank\" href=https://colab.research.google.com/notebooks/data_table.ipynb>data table notebook</a>'\n",
              "            + ' to learn more about interactive tables.';\n",
              "          element.innerHTML = '';\n",
              "          dataTable['output_type'] = 'display_data';\n",
              "          await google.colab.output.renderOutput(dataTable, element);\n",
              "          const docLink = document.createElement('div');\n",
              "          docLink.innerHTML = docLinkHtml;\n",
              "          element.appendChild(docLink);\n",
              "        }\n",
              "      </script>\n",
              "    </div>\n",
              "  </div>\n",
              "  "
            ]
          },
          "metadata": {},
          "execution_count": 4
        }
      ]
    },
    {
      "cell_type": "code",
      "source": [
        "limite = df.shape[1]*0.5\n",
        "\n",
        "df.dropna(thresh=limite,inplace=True)"
      ],
      "metadata": {
        "id": "WcwIfVWavCqh"
      },
      "execution_count": null,
      "outputs": []
    },
    {
      "cell_type": "code",
      "source": [
        "df"
      ],
      "metadata": {
        "colab": {
          "base_uri": "https://localhost:8080/",
          "height": 112
        },
        "id": "srKcwGCviLJ3",
        "outputId": "69747288-672d-459f-afbf-c154b193deea"
      },
      "execution_count": null,
      "outputs": [
        {
          "output_type": "execute_result",
          "data": {
            "text/plain": [
              "       name        toy       born\n",
              "1    Batman  Batmobile 1940-04-25\n",
              "2  Catwoman   Bullwhip        NaT"
            ],
            "text/html": [
              "\n",
              "  <div id=\"df-f2cc1f8f-c1af-44c5-b42f-d12e1c1d9b7d\">\n",
              "    <div class=\"colab-df-container\">\n",
              "      <div>\n",
              "<style scoped>\n",
              "    .dataframe tbody tr th:only-of-type {\n",
              "        vertical-align: middle;\n",
              "    }\n",
              "\n",
              "    .dataframe tbody tr th {\n",
              "        vertical-align: top;\n",
              "    }\n",
              "\n",
              "    .dataframe thead th {\n",
              "        text-align: right;\n",
              "    }\n",
              "</style>\n",
              "<table border=\"1\" class=\"dataframe\">\n",
              "  <thead>\n",
              "    <tr style=\"text-align: right;\">\n",
              "      <th></th>\n",
              "      <th>name</th>\n",
              "      <th>toy</th>\n",
              "      <th>born</th>\n",
              "    </tr>\n",
              "  </thead>\n",
              "  <tbody>\n",
              "    <tr>\n",
              "      <th>1</th>\n",
              "      <td>Batman</td>\n",
              "      <td>Batmobile</td>\n",
              "      <td>1940-04-25</td>\n",
              "    </tr>\n",
              "    <tr>\n",
              "      <th>2</th>\n",
              "      <td>Catwoman</td>\n",
              "      <td>Bullwhip</td>\n",
              "      <td>NaT</td>\n",
              "    </tr>\n",
              "  </tbody>\n",
              "</table>\n",
              "</div>\n",
              "      <button class=\"colab-df-convert\" onclick=\"convertToInteractive('df-f2cc1f8f-c1af-44c5-b42f-d12e1c1d9b7d')\"\n",
              "              title=\"Convert this dataframe to an interactive table.\"\n",
              "              style=\"display:none;\">\n",
              "        \n",
              "  <svg xmlns=\"http://www.w3.org/2000/svg\" height=\"24px\"viewBox=\"0 0 24 24\"\n",
              "       width=\"24px\">\n",
              "    <path d=\"M0 0h24v24H0V0z\" fill=\"none\"/>\n",
              "    <path d=\"M18.56 5.44l.94 2.06.94-2.06 2.06-.94-2.06-.94-.94-2.06-.94 2.06-2.06.94zm-11 1L8.5 8.5l.94-2.06 2.06-.94-2.06-.94L8.5 2.5l-.94 2.06-2.06.94zm10 10l.94 2.06.94-2.06 2.06-.94-2.06-.94-.94-2.06-.94 2.06-2.06.94z\"/><path d=\"M17.41 7.96l-1.37-1.37c-.4-.4-.92-.59-1.43-.59-.52 0-1.04.2-1.43.59L10.3 9.45l-7.72 7.72c-.78.78-.78 2.05 0 2.83L4 21.41c.39.39.9.59 1.41.59.51 0 1.02-.2 1.41-.59l7.78-7.78 2.81-2.81c.8-.78.8-2.07 0-2.86zM5.41 20L4 18.59l7.72-7.72 1.47 1.35L5.41 20z\"/>\n",
              "  </svg>\n",
              "      </button>\n",
              "      \n",
              "  <style>\n",
              "    .colab-df-container {\n",
              "      display:flex;\n",
              "      flex-wrap:wrap;\n",
              "      gap: 12px;\n",
              "    }\n",
              "\n",
              "    .colab-df-convert {\n",
              "      background-color: #E8F0FE;\n",
              "      border: none;\n",
              "      border-radius: 50%;\n",
              "      cursor: pointer;\n",
              "      display: none;\n",
              "      fill: #1967D2;\n",
              "      height: 32px;\n",
              "      padding: 0 0 0 0;\n",
              "      width: 32px;\n",
              "    }\n",
              "\n",
              "    .colab-df-convert:hover {\n",
              "      background-color: #E2EBFA;\n",
              "      box-shadow: 0px 1px 2px rgba(60, 64, 67, 0.3), 0px 1px 3px 1px rgba(60, 64, 67, 0.15);\n",
              "      fill: #174EA6;\n",
              "    }\n",
              "\n",
              "    [theme=dark] .colab-df-convert {\n",
              "      background-color: #3B4455;\n",
              "      fill: #D2E3FC;\n",
              "    }\n",
              "\n",
              "    [theme=dark] .colab-df-convert:hover {\n",
              "      background-color: #434B5C;\n",
              "      box-shadow: 0px 1px 3px 1px rgba(0, 0, 0, 0.15);\n",
              "      filter: drop-shadow(0px 1px 2px rgba(0, 0, 0, 0.3));\n",
              "      fill: #FFFFFF;\n",
              "    }\n",
              "  </style>\n",
              "\n",
              "      <script>\n",
              "        const buttonEl =\n",
              "          document.querySelector('#df-f2cc1f8f-c1af-44c5-b42f-d12e1c1d9b7d button.colab-df-convert');\n",
              "        buttonEl.style.display =\n",
              "          google.colab.kernel.accessAllowed ? 'block' : 'none';\n",
              "\n",
              "        async function convertToInteractive(key) {\n",
              "          const element = document.querySelector('#df-f2cc1f8f-c1af-44c5-b42f-d12e1c1d9b7d');\n",
              "          const dataTable =\n",
              "            await google.colab.kernel.invokeFunction('convertToInteractive',\n",
              "                                                     [key], {});\n",
              "          if (!dataTable) return;\n",
              "\n",
              "          const docLinkHtml = 'Like what you see? Visit the ' +\n",
              "            '<a target=\"_blank\" href=https://colab.research.google.com/notebooks/data_table.ipynb>data table notebook</a>'\n",
              "            + ' to learn more about interactive tables.';\n",
              "          element.innerHTML = '';\n",
              "          dataTable['output_type'] = 'display_data';\n",
              "          await google.colab.output.renderOutput(dataTable, element);\n",
              "          const docLink = document.createElement('div');\n",
              "          docLink.innerHTML = docLinkHtml;\n",
              "          element.appendChild(docLink);\n",
              "        }\n",
              "      </script>\n",
              "    </div>\n",
              "  </div>\n",
              "  "
            ]
          },
          "metadata": {},
          "execution_count": 7
        }
      ]
    },
    {
      "cell_type": "markdown",
      "source": [
        "### ***Substituindo Valores ausenstes*** \n",
        "- **Valores Númericos** : Com valores númericos podemos substituir por **zeros**,**média** ou pela **mediana** dos valores;\n",
        "- **Valores Categóricos** : Com valores Categóricos podemos substituir pelo valor com maior **ocorrência(Frequência)** na coluna.\n",
        "\n",
        "\n",
        "Para susbstituir valores ausentes usamos o comando: \n",
        "\n",
        "\n",
        "```\n",
        "df['nome_coluna'] = df['nome_coluna'].fillna(media)\n",
        "```\n"
      ],
      "metadata": {
        "id": "-vuoSheNuQ9V"
      }
    },
    {
      "cell_type": "markdown",
      "source": [
        "Nessa parte vamos tratar um do tipo de coluna de cada dataframe.  "
      ],
      "metadata": {
        "id": "GBPwbpaeAqVC"
      }
    },
    {
      "cell_type": "code",
      "source": [
        "df_vehicle.isnull().sum()"
      ],
      "metadata": {
        "colab": {
          "base_uri": "https://localhost:8080/"
        },
        "id": "5QNpHBRfAhe5",
        "outputId": "2c42e9d6-9b29-4905-c984-92e09762f7e6"
      },
      "execution_count": null,
      "outputs": [
        {
          "output_type": "execute_result",
          "data": {
            "text/plain": [
              "CRASH_DATE                0\n",
              "CRASH_TIME                0\n",
              "PERSON_INJURY             0\n",
              "PERSON_AGE              421\n",
              "BODILY_INJURY             0\n",
              "SAFETY_EQUIPMENT       6235\n",
              "PERSON_SEX                0\n",
              "PERSON_TYPE               0\n",
              "EJECTION               6240\n",
              "COMPLAINT                 0\n",
              "EMOTIONAL_STATUS          0\n",
              "VEHICLE_ID             6571\n",
              "PERSON_ID                 0\n",
              "POSITION_IN_VEHICLE    6221\n",
              "PED_ROLE                  0\n",
              "UNIQUE_ID                 0\n",
              "COLLISION_ID              0\n",
              "dtype: int64"
            ]
          },
          "metadata": {},
          "execution_count": 34
        }
      ]
    },
    {
      "cell_type": "code",
      "source": [
        "df_vehicle.dtypes"
      ],
      "metadata": {
        "id": "llzvx6e-vB0z",
        "colab": {
          "base_uri": "https://localhost:8080/"
        },
        "outputId": "ea418881-f51d-4c88-dced-3bb2542bb68f"
      },
      "execution_count": null,
      "outputs": [
        {
          "output_type": "execute_result",
          "data": {
            "text/plain": [
              "CRASH_DATE              object\n",
              "CRASH_TIME              object\n",
              "PERSON_INJURY           object\n",
              "PERSON_AGE             float64\n",
              "BODILY_INJURY           object\n",
              "SAFETY_EQUIPMENT        object\n",
              "PERSON_SEX              object\n",
              "PERSON_TYPE             object\n",
              "EJECTION                object\n",
              "COMPLAINT               object\n",
              "EMOTIONAL_STATUS        object\n",
              "VEHICLE_ID             float64\n",
              "PERSON_ID               object\n",
              "POSITION_IN_VEHICLE     object\n",
              "PED_ROLE                object\n",
              "UNIQUE_ID                int64\n",
              "COLLISION_ID             int64\n",
              "dtype: object"
            ]
          },
          "metadata": {},
          "execution_count": 33
        }
      ]
    },
    {
      "cell_type": "markdown",
      "source": [
        "vamos pegar `PERSON_AGE e SAFETY_EQUIPMENT` do df_vehicle que são respectivamente do tipo `float64 e object`"
      ],
      "metadata": {
        "id": "aVupqj94A4MF"
      }
    },
    {
      "cell_type": "markdown",
      "source": [
        "Com o PERSON_AGE vamos substitir os valores ausentes pela **média dos valores** daquela **coluna**."
      ],
      "metadata": {
        "id": "zBGRvEYgBG9S"
      }
    },
    {
      "cell_type": "code",
      "source": [
        "media = df_vehicle['PERSON_AGE'].mean()\n",
        "media "
      ],
      "metadata": {
        "colab": {
          "base_uri": "https://localhost:8080/"
        },
        "id": "XiI4dev0BUas",
        "outputId": "e5f079b2-9e90-4011-dc10-0fd69164d91b"
      },
      "execution_count": null,
      "outputs": [
        {
          "output_type": "execute_result",
          "data": {
            "text/plain": [
              "37.48764586280057"
            ]
          },
          "metadata": {},
          "execution_count": 35
        }
      ]
    },
    {
      "cell_type": "code",
      "source": [
        "df_vehicle['PERSON_AGE'] = df_vehicle['PERSON_AGE'].fillna(media)"
      ],
      "metadata": {
        "id": "vF-1S5cyBUc3"
      },
      "execution_count": null,
      "outputs": []
    },
    {
      "cell_type": "markdown",
      "source": [
        "NO caso do SAFETY_EQUIPMENT vamos pegar o valores de maior frequência."
      ],
      "metadata": {
        "id": "Plrsikj0B2qo"
      }
    },
    {
      "cell_type": "code",
      "source": [
        "df_vehicle['SAFETY_EQUIPMENT'].value_counts()"
      ],
      "metadata": {
        "colab": {
          "base_uri": "https://localhost:8080/"
        },
        "id": "EsS19ituCEv5",
        "outputId": "fa97aab9-ae86-498c-a7b8-52f9201732df"
      },
      "execution_count": null,
      "outputs": [
        {
          "output_type": "execute_result",
          "data": {
            "text/plain": [
              "Lap Belt & Harness                          18184\n",
              "Unknown                                      6818\n",
              "None                                         5942\n",
              "Lap Belt                                     3711\n",
              "Helmet (Motorcycle Only)                     1205\n",
              "Helmet Only (In-Line Skater/Bicyclist)       1047\n",
              "Air Bag Deployed/Lap Belt/Harness             926\n",
              "Child Restraint Only                          490\n",
              "Helmet/Other (In-Line Skater/Bicyclist)       326\n",
              "Air Bag Deployed                              261\n",
              "Other                                         233\n",
              "Air Bag Deployed/Lap Belt                     145\n",
              "Harness                                       104\n",
              "Air Bag Deployed/Child Restraint               26\n",
              "Pads Only (In-Line Skater/Bicyclist)           11\n",
              "Stoppers Only (In-Line Skater/Bicyclist)        5\n",
              "Name: SAFETY_EQUIPMENT, dtype: int64"
            ]
          },
          "metadata": {},
          "execution_count": 9
        }
      ]
    },
    {
      "cell_type": "code",
      "source": [
        "df_vehicle['SAFETY_EQUIPMENT']= df_vehicle['SAFETY_EQUIPMENT'].fillna('Lap Belt & Harness')"
      ],
      "metadata": {
        "id": "YkEBO_QHCEyB"
      },
      "execution_count": null,
      "outputs": []
    },
    {
      "cell_type": "markdown",
      "source": [
        "Depois de tratados vamos verificar de foi feito a alteração."
      ],
      "metadata": {
        "id": "MXsQBeD5CoyS"
      }
    },
    {
      "cell_type": "code",
      "source": [
        "df_vehicle.isnull().sum()"
      ],
      "metadata": {
        "colab": {
          "base_uri": "https://localhost:8080/"
        },
        "id": "BijrxP5dCif8",
        "outputId": "c08de244-e21e-403e-dede-b615ca32428b"
      },
      "execution_count": null,
      "outputs": [
        {
          "output_type": "execute_result",
          "data": {
            "text/plain": [
              "CRASH_DATE                0\n",
              "CRASH_TIME                0\n",
              "PERSON_INJURY             0\n",
              "PERSON_AGE                0\n",
              "BODILY_INJURY             0\n",
              "SAFETY_EQUIPMENT          0\n",
              "PERSON_SEX                0\n",
              "PERSON_TYPE               0\n",
              "EJECTION               6240\n",
              "COMPLAINT                 0\n",
              "EMOTIONAL_STATUS          0\n",
              "VEHICLE_ID             6571\n",
              "PERSON_ID                 0\n",
              "POSITION_IN_VEHICLE    6221\n",
              "PED_ROLE                  0\n",
              "UNIQUE_ID                 0\n",
              "COLLISION_ID              0\n",
              "dtype: int64"
            ]
          },
          "metadata": {},
          "execution_count": 43
        }
      ]
    },
    {
      "cell_type": "markdown",
      "source": [
        "Vamos executar o mesmo processo com o df_titanic."
      ],
      "metadata": {
        "id": "cFtktU6wCn7v"
      }
    },
    {
      "cell_type": "code",
      "source": [
        "df_titanic.isnull().sum()"
      ],
      "metadata": {
        "colab": {
          "base_uri": "https://localhost:8080/"
        },
        "id": "WDIWD3R5C0E0",
        "outputId": "ad5ebd97-6be6-4e0e-cc4b-966015db1dd0"
      },
      "execution_count": null,
      "outputs": [
        {
          "output_type": "execute_result",
          "data": {
            "text/plain": [
              "PassengerId      0\n",
              "Survived         0\n",
              "Pclass           0\n",
              "Name             0\n",
              "Sex              0\n",
              "Age            177\n",
              "SibSp            0\n",
              "Parch            0\n",
              "Ticket           0\n",
              "Fare             0\n",
              "Cabin          687\n",
              "Embarked         2\n",
              "dtype: int64"
            ]
          },
          "metadata": {},
          "execution_count": 45
        }
      ]
    },
    {
      "cell_type": "code",
      "source": [
        "df_titanic.dtypes"
      ],
      "metadata": {
        "colab": {
          "base_uri": "https://localhost:8080/"
        },
        "id": "mucy4S0CC0Hb",
        "outputId": "9a2e24d5-af9e-4256-f517-32e23ab85c25"
      },
      "execution_count": null,
      "outputs": [
        {
          "output_type": "execute_result",
          "data": {
            "text/plain": [
              "PassengerId      int64\n",
              "Survived         int64\n",
              "Pclass           int64\n",
              "Name            object\n",
              "Sex             object\n",
              "Age            float64\n",
              "SibSp            int64\n",
              "Parch            int64\n",
              "Ticket          object\n",
              "Fare           float64\n",
              "Cabin           object\n",
              "Embarked        object\n",
              "dtype: object"
            ]
          },
          "metadata": {},
          "execution_count": 46
        }
      ]
    },
    {
      "cell_type": "code",
      "source": [
        "media = df_titanic['Age'].mean()\n",
        "df_titanic['Age'] = df_titanic['Age'].fillna(media)"
      ],
      "metadata": {
        "id": "Hrl1TXq6DCLR"
      },
      "execution_count": null,
      "outputs": []
    },
    {
      "cell_type": "code",
      "source": [
        "df_titanic['Embarked'].value_counts()"
      ],
      "metadata": {
        "colab": {
          "base_uri": "https://localhost:8080/"
        },
        "id": "QsopMq7bDH5K",
        "outputId": "e9b69ab9-6f1e-4e8a-fe4d-44066db830e0"
      },
      "execution_count": null,
      "outputs": [
        {
          "output_type": "execute_result",
          "data": {
            "text/plain": [
              "S    644\n",
              "C    168\n",
              "Q     77\n",
              "Name: Embarked, dtype: int64"
            ]
          },
          "metadata": {},
          "execution_count": 50
        }
      ]
    },
    {
      "cell_type": "code",
      "source": [
        "df_titanic['Embarked'] = df_titanic['Embarked'].fillna('S')"
      ],
      "metadata": {
        "id": "qs_XhiRUDW_B"
      },
      "execution_count": null,
      "outputs": []
    },
    {
      "cell_type": "code",
      "source": [
        "df_titanic.isnull().sum()"
      ],
      "metadata": {
        "colab": {
          "base_uri": "https://localhost:8080/"
        },
        "id": "I600wUkwDc3a",
        "outputId": "75204484-3599-4bca-fadf-fce424d7ee93"
      },
      "execution_count": null,
      "outputs": [
        {
          "output_type": "execute_result",
          "data": {
            "text/plain": [
              "PassengerId      0\n",
              "Survived         0\n",
              "Pclass           0\n",
              "Name             0\n",
              "Sex              0\n",
              "Age              0\n",
              "SibSp            0\n",
              "Parch            0\n",
              "Ticket           0\n",
              "Fare             0\n",
              "Cabin          687\n",
              "Embarked         0\n",
              "dtype: int64"
            ]
          },
          "metadata": {},
          "execution_count": 52
        }
      ]
    },
    {
      "cell_type": "markdown",
      "source": [
        "Neste artigo aprendemos maneiras de identificar e tratar dados ausentes com python, espero que tenham gostado desse tutorial e caso tenham alguma dúvida ou feedback pode deixar um comentario para nossa equipe."
      ],
      "metadata": {
        "id": "yvsMp23IDkFJ"
      }
    }
  ]
}