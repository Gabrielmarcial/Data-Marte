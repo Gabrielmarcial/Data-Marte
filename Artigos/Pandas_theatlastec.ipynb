{
  "nbformat": 4,
  "nbformat_minor": 0,
  "metadata": {
    "colab": {
      "name": "Pandas/theatlastec",
      "provenance": [],
      "collapsed_sections": [],
      "authorship_tag": "ABX9TyMYzgonLtUmcZCoJwdVOJpH",
      "include_colab_link": true
    },
    "kernelspec": {
      "name": "python3",
      "display_name": "Python 3"
    }
  },
  "cells": [
    {
      "cell_type": "markdown",
      "metadata": {
        "id": "view-in-github",
        "colab_type": "text"
      },
      "source": [
        "<a href=\"https://colab.research.google.com/github/Gabrielmarcial/Data-Marte/blob/main/Pandas_theatlastec.ipynb\" target=\"_parent\"><img src=\"https://colab.research.google.com/assets/colab-badge.svg\" alt=\"Open In Colab\"/></a>"
      ]
    },
    {
      "cell_type": "markdown",
      "metadata": {
        "id": "cr5CiZb13Uh_"
      },
      "source": [
        "# INTRODUÇÃO AO PANDAS : Umas das bibliotecas mais conhecidas em Data Science\n",
        "\n",
        "Antes de falar do **Pandas** vamos entender um pouco do **Numpy** e a ligação entre essas duas bibliotecas ligação.\n",
        " \n",
        " \n",
        "O Numpy é uma das bibliotecas mais importantes para a computação científica em  Python,que fornece armazenamento e manipulação eficiente de matrizes densas.\n",
        " \n",
        " \n",
        "Numpy é um poderosa ferramenta para operações matemáticas com matrizes de N-dimensões que é a aplicação direta de álgebra linear para python. \n",
        " \n",
        " \n",
        "Essa ferramenta se mostra muito eficaz e rápida com dados limpos e organizados como em tarefas de computação numérica,mas se mostra deficiente quando trabalhamos com dados desorganizados e com valores ausentes.\n",
        " \n",
        " \n",
        "Os dados que lidamos no dia a dia não vêm prontos e totalmente organizados,o que tratamos no mundo real são dados menos estruturados que estão disponíveis no mundo ao nosso redor e a biblioteca Pandas é a principal ferramenta para tratar esse tipo de dado.\n",
        " \n",
        " \n",
        " \n",
        " \n",
        "O Pandas é um pacote construído sobre o Numpy e fornece uma implementação eficiente de um DataFrame.Um DataFrame são tabelas multidimensionais em que suas colunas têm nomes e podem conter dados diferentes e até ausentes.O Cientista de dados passa grande parte de seu tempo tratando com **dados munging** ou manipulação de dados,quando se deparamos no mundo real com uma base dados ela vem bruta,então não podemos simplesmente pegar esses dados e trabalhar direto com eles como por exemplo com um sistema de previsões.Então antes de realmente trabalharmos com os dados temos que tratar eles e limpa los, assim o Pandas se torna uma ferramenta extremamente poderosa e útil.\n",
        "\n",
        "\n",
        "\n",
        "\n",
        "\n",
        "\n",
        "\n",
        "\n",
        "\n",
        "\n",
        "\n",
        "\n",
        "\n",
        "\n",
        "\n",
        "\n",
        "\n"
      ]
    },
    {
      "cell_type": "markdown",
      "metadata": {
        "id": "3TiW4e7W3Tq6"
      },
      "source": [
        "## instalação do pacote \n",
        "Dependendo do ambiente que você esteja usando devemos instalar o pacote do pandas,então caso esteja usando uma máquina local deve instalar com os seguintes comandos dependendo do gerenciador que esteja usando.\n",
        "\n",
        " `pip install pandas ` \n",
        " \n",
        " ou \n",
        " \n",
        "` conda install pandas `"
      ]
    },
    {
      "cell_type": "markdown",
      "metadata": {
        "id": "dKRQxMvn5fH9"
      },
      "source": [
        " Importando o Pacote Pandas "
      ]
    },
    {
      "cell_type": "code",
      "metadata": {
        "id": "sFAN-0WxKp3c"
      },
      "source": [
        "# importar pandas \n",
        "\n",
        "import pandas as pd\n"
      ],
      "execution_count": null,
      "outputs": []
    },
    {
      "cell_type": "markdown",
      "metadata": {
        "id": "l0pLU66mEs8p"
      },
      "source": [
        " Para carregar uma base de dados usando pandas devemos dar o comando \n",
        "\n",
        "```\n",
        " pd.read_csv(\"local do arquivo.csv\")\n",
        "```\n",
        "nesse caso estou lendo um arquivo csv da cotação do Bitcoin em relação ao Dola BTU-USD que peguei no [Yahoofinance ](https://https://finance.yahoo.com/quote/BTC-USD/history?p=BTC-USD) e salvei como df.\n",
        "No \"local_do_arquivo.csv\" colocamos o caminho da base de dados que pode ser local ou na web.\n"
      ]
    },
    {
      "cell_type": "code",
      "metadata": {
        "id": "BJcg3MhMNAot",
        "colab": {
          "base_uri": "https://localhost:8080/",
          "height": 266
        },
        "outputId": "771c057b-db19-43c1-b1ae-9328998889c6"
      },
      "source": [
        "#carregar dados \n",
        "\n",
        "df = pd.read_csv(\"/content/BTC-USD.csv\")\n",
        "\n",
        "print(df)"
      ],
      "execution_count": null,
      "outputs": [
        {
          "output_type": "stream",
          "text": [
            "           Date          Open  ...     Adj Close       Volume\n",
            "0    2019-07-01  10796.930664  ...  10583.134766  29378589324\n",
            "1    2019-07-02  10588.683594  ...  10801.677734  31015895222\n",
            "2    2019-07-03  10818.156250  ...  11961.269531  30796494293\n",
            "3    2019-07-04  11972.718750  ...  11215.437500  25920294033\n",
            "4    2019-07-05  11203.102539  ...  10978.459961  23838480210\n",
            "..          ...           ...  ...           ...          ...\n",
            "362  2020-06-27   9167.824219  ...   9045.390625  17273093144\n",
            "363  2020-06-28   9048.460938  ...   9143.582031  14560870760\n",
            "364  2020-06-29   9140.029297  ...   9190.854492  16460547078\n",
            "365  2020-06-30   9185.581055  ...   9137.993164  15735797743\n",
            "366  2020-07-01   9157.814453  ...   9230.061523  15946769408\n",
            "\n",
            "[367 rows x 7 columns]\n"
          ],
          "name": "stdout"
        }
      ]
    },
    {
      "cell_type": "markdown",
      "metadata": {
        "id": "nPvOu1cyFdN9"
      },
      "source": [
        "## Visualizando os dados"
      ]
    },
    {
      "cell_type": "markdown",
      "metadata": {
        "id": "nrbHuTbUmqWD"
      },
      "source": [
        "Antes de começarmos a trabalhar com nossos dados primeiro temos que entender como eles estão se comportando e com oque estmaos trabalhando.\n",
        "\n",
        "O primeiro comando que vamos trabalhar é ```df.head()``` nele conseguimos mostrar uma determinada numero de linhas,se executamos esse codigo, ele mostra as 5 primeiras linhas da base de dados.\n",
        "\n",
        " "
      ]
    },
    {
      "cell_type": "code",
      "metadata": {
        "id": "iZHotuqdNV3s",
        "colab": {
          "base_uri": "https://localhost:8080/",
          "height": 194
        },
        "outputId": "8df719f1-6914-445d-9daa-1f08f0ccc5b7"
      },
      "source": [
        "#Mostrar os 5 primeiros linhas de dados \n",
        "df.head()"
      ],
      "execution_count": null,
      "outputs": [
        {
          "output_type": "execute_result",
          "data": {
            "text/html": [
              "<div>\n",
              "<style scoped>\n",
              "    .dataframe tbody tr th:only-of-type {\n",
              "        vertical-align: middle;\n",
              "    }\n",
              "\n",
              "    .dataframe tbody tr th {\n",
              "        vertical-align: top;\n",
              "    }\n",
              "\n",
              "    .dataframe thead th {\n",
              "        text-align: right;\n",
              "    }\n",
              "</style>\n",
              "<table border=\"1\" class=\"dataframe\">\n",
              "  <thead>\n",
              "    <tr style=\"text-align: right;\">\n",
              "      <th></th>\n",
              "      <th>Date</th>\n",
              "      <th>Open</th>\n",
              "      <th>High</th>\n",
              "      <th>Low</th>\n",
              "      <th>Close</th>\n",
              "      <th>Adj Close</th>\n",
              "      <th>Volume</th>\n",
              "    </tr>\n",
              "  </thead>\n",
              "  <tbody>\n",
              "    <tr>\n",
              "      <th>0</th>\n",
              "      <td>2019-07-01</td>\n",
              "      <td>10796.930664</td>\n",
              "      <td>11206.439453</td>\n",
              "      <td>10089.314453</td>\n",
              "      <td>10583.134766</td>\n",
              "      <td>10583.134766</td>\n",
              "      <td>29378589324</td>\n",
              "    </tr>\n",
              "    <tr>\n",
              "      <th>1</th>\n",
              "      <td>2019-07-02</td>\n",
              "      <td>10588.683594</td>\n",
              "      <td>10912.188477</td>\n",
              "      <td>9737.884766</td>\n",
              "      <td>10801.677734</td>\n",
              "      <td>10801.677734</td>\n",
              "      <td>31015895222</td>\n",
              "    </tr>\n",
              "    <tr>\n",
              "      <th>2</th>\n",
              "      <td>2019-07-03</td>\n",
              "      <td>10818.156250</td>\n",
              "      <td>11968.078125</td>\n",
              "      <td>10818.156250</td>\n",
              "      <td>11961.269531</td>\n",
              "      <td>11961.269531</td>\n",
              "      <td>30796494293</td>\n",
              "    </tr>\n",
              "    <tr>\n",
              "      <th>3</th>\n",
              "      <td>2019-07-04</td>\n",
              "      <td>11972.718750</td>\n",
              "      <td>12006.075195</td>\n",
              "      <td>11166.569336</td>\n",
              "      <td>11215.437500</td>\n",
              "      <td>11215.437500</td>\n",
              "      <td>25920294033</td>\n",
              "    </tr>\n",
              "    <tr>\n",
              "      <th>4</th>\n",
              "      <td>2019-07-05</td>\n",
              "      <td>11203.102539</td>\n",
              "      <td>11395.661133</td>\n",
              "      <td>10874.964844</td>\n",
              "      <td>10978.459961</td>\n",
              "      <td>10978.459961</td>\n",
              "      <td>23838480210</td>\n",
              "    </tr>\n",
              "  </tbody>\n",
              "</table>\n",
              "</div>"
            ],
            "text/plain": [
              "         Date          Open  ...     Adj Close       Volume\n",
              "0  2019-07-01  10796.930664  ...  10583.134766  29378589324\n",
              "1  2019-07-02  10588.683594  ...  10801.677734  31015895222\n",
              "2  2019-07-03  10818.156250  ...  11961.269531  30796494293\n",
              "3  2019-07-04  11972.718750  ...  11215.437500  25920294033\n",
              "4  2019-07-05  11203.102539  ...  10978.459961  23838480210\n",
              "\n",
              "[5 rows x 7 columns]"
            ]
          },
          "metadata": {
            "tags": []
          },
          "execution_count": 3
        }
      ]
    },
    {
      "cell_type": "code",
      "metadata": {
        "id": "VUTf7JCYn-Sp",
        "colab": {
          "base_uri": "https://localhost:8080/",
          "height": 252
        },
        "outputId": "05b0cd94-a8ab-4187-df83-280ab5c12632"
      },
      "source": [
        "#Mostrar os 7 primeiras linhas dados \n",
        "df.head(7)"
      ],
      "execution_count": null,
      "outputs": [
        {
          "output_type": "execute_result",
          "data": {
            "text/html": [
              "<div>\n",
              "<style scoped>\n",
              "    .dataframe tbody tr th:only-of-type {\n",
              "        vertical-align: middle;\n",
              "    }\n",
              "\n",
              "    .dataframe tbody tr th {\n",
              "        vertical-align: top;\n",
              "    }\n",
              "\n",
              "    .dataframe thead th {\n",
              "        text-align: right;\n",
              "    }\n",
              "</style>\n",
              "<table border=\"1\" class=\"dataframe\">\n",
              "  <thead>\n",
              "    <tr style=\"text-align: right;\">\n",
              "      <th></th>\n",
              "      <th>Data</th>\n",
              "      <th>Máxima</th>\n",
              "      <th>Mínima</th>\n",
              "      <th>Fechamento</th>\n",
              "      <th>adjFechamento</th>\n",
              "      <th>Volume</th>\n",
              "    </tr>\n",
              "  </thead>\n",
              "  <tbody>\n",
              "    <tr>\n",
              "      <th>0</th>\n",
              "      <td>2019-07-01</td>\n",
              "      <td>11206.439453</td>\n",
              "      <td>10089.314453</td>\n",
              "      <td>10583.134766</td>\n",
              "      <td>10583.134766</td>\n",
              "      <td>29378589324</td>\n",
              "    </tr>\n",
              "    <tr>\n",
              "      <th>1</th>\n",
              "      <td>2019-07-02</td>\n",
              "      <td>10912.188477</td>\n",
              "      <td>9737.884766</td>\n",
              "      <td>10801.677734</td>\n",
              "      <td>10801.677734</td>\n",
              "      <td>31015895222</td>\n",
              "    </tr>\n",
              "    <tr>\n",
              "      <th>2</th>\n",
              "      <td>2019-07-03</td>\n",
              "      <td>11968.078125</td>\n",
              "      <td>10818.156250</td>\n",
              "      <td>11961.269531</td>\n",
              "      <td>11961.269531</td>\n",
              "      <td>30796494293</td>\n",
              "    </tr>\n",
              "    <tr>\n",
              "      <th>3</th>\n",
              "      <td>2019-07-04</td>\n",
              "      <td>12006.075195</td>\n",
              "      <td>11166.569336</td>\n",
              "      <td>11215.437500</td>\n",
              "      <td>11215.437500</td>\n",
              "      <td>25920294033</td>\n",
              "    </tr>\n",
              "    <tr>\n",
              "      <th>4</th>\n",
              "      <td>2019-07-05</td>\n",
              "      <td>11395.661133</td>\n",
              "      <td>10874.964844</td>\n",
              "      <td>10978.459961</td>\n",
              "      <td>10978.459961</td>\n",
              "      <td>23838480210</td>\n",
              "    </tr>\n",
              "    <tr>\n",
              "      <th>5</th>\n",
              "      <td>2019-07-06</td>\n",
              "      <td>11620.964844</td>\n",
              "      <td>10982.543945</td>\n",
              "      <td>11208.550781</td>\n",
              "      <td>11208.550781</td>\n",
              "      <td>21092024306</td>\n",
              "    </tr>\n",
              "    <tr>\n",
              "      <th>6</th>\n",
              "      <td>2019-07-07</td>\n",
              "      <td>11541.620117</td>\n",
              "      <td>11148.804688</td>\n",
              "      <td>11450.846680</td>\n",
              "      <td>11450.846680</td>\n",
              "      <td>19369044276</td>\n",
              "    </tr>\n",
              "  </tbody>\n",
              "</table>\n",
              "</div>"
            ],
            "text/plain": [
              "         Data        Máxima  ...  adjFechamento       Volume\n",
              "0  2019-07-01  11206.439453  ...   10583.134766  29378589324\n",
              "1  2019-07-02  10912.188477  ...   10801.677734  31015895222\n",
              "2  2019-07-03  11968.078125  ...   11961.269531  30796494293\n",
              "3  2019-07-04  12006.075195  ...   11215.437500  25920294033\n",
              "4  2019-07-05  11395.661133  ...   10978.459961  23838480210\n",
              "5  2019-07-06  11620.964844  ...   11208.550781  21092024306\n",
              "6  2019-07-07  11541.620117  ...   11450.846680  19369044276\n",
              "\n",
              "[7 rows x 6 columns]"
            ]
          },
          "metadata": {
            "tags": []
          },
          "execution_count": 20
        }
      ]
    },
    {
      "cell_type": "markdown",
      "metadata": {
        "id": "mcSU3ij-oqIn"
      },
      "source": [
        "Como vimos as primeiros valores e justo que mostremos como aparece os ultimos. Com o comando ```df.tail()``` ele mostra as 5 ultimas linhas da nossa base de dados,mas caso queira um número maior basta fazer como no exemplo acima e indicar a quantidade.\n",
        "\n"
      ]
    },
    {
      "cell_type": "code",
      "metadata": {
        "id": "VDm6_gzKGBF4",
        "colab": {
          "base_uri": "https://localhost:8080/",
          "height": 194
        },
        "outputId": "28c6081a-64be-4cab-b269-5c2b51066dba"
      },
      "source": [
        "# Mostrar os 5 ultimos \n",
        "df.tail()"
      ],
      "execution_count": null,
      "outputs": [
        {
          "output_type": "execute_result",
          "data": {
            "text/html": [
              "<div>\n",
              "<style scoped>\n",
              "    .dataframe tbody tr th:only-of-type {\n",
              "        vertical-align: middle;\n",
              "    }\n",
              "\n",
              "    .dataframe tbody tr th {\n",
              "        vertical-align: top;\n",
              "    }\n",
              "\n",
              "    .dataframe thead th {\n",
              "        text-align: right;\n",
              "    }\n",
              "</style>\n",
              "<table border=\"1\" class=\"dataframe\">\n",
              "  <thead>\n",
              "    <tr style=\"text-align: right;\">\n",
              "      <th></th>\n",
              "      <th>Date</th>\n",
              "      <th>Open</th>\n",
              "      <th>High</th>\n",
              "      <th>Low</th>\n",
              "      <th>Close</th>\n",
              "      <th>Adj Close</th>\n",
              "      <th>Volume</th>\n",
              "    </tr>\n",
              "  </thead>\n",
              "  <tbody>\n",
              "    <tr>\n",
              "      <th>362</th>\n",
              "      <td>2020-06-27</td>\n",
              "      <td>9167.824219</td>\n",
              "      <td>9207.810547</td>\n",
              "      <td>8998.216797</td>\n",
              "      <td>9045.390625</td>\n",
              "      <td>9045.390625</td>\n",
              "      <td>17273093144</td>\n",
              "    </tr>\n",
              "    <tr>\n",
              "      <th>363</th>\n",
              "      <td>2020-06-28</td>\n",
              "      <td>9048.460938</td>\n",
              "      <td>9197.546875</td>\n",
              "      <td>8975.525391</td>\n",
              "      <td>9143.582031</td>\n",
              "      <td>9143.582031</td>\n",
              "      <td>14560870760</td>\n",
              "    </tr>\n",
              "    <tr>\n",
              "      <th>364</th>\n",
              "      <td>2020-06-29</td>\n",
              "      <td>9140.029297</td>\n",
              "      <td>9237.573242</td>\n",
              "      <td>9041.875977</td>\n",
              "      <td>9190.854492</td>\n",
              "      <td>9190.854492</td>\n",
              "      <td>16460547078</td>\n",
              "    </tr>\n",
              "    <tr>\n",
              "      <th>365</th>\n",
              "      <td>2020-06-30</td>\n",
              "      <td>9185.581055</td>\n",
              "      <td>9217.835938</td>\n",
              "      <td>9084.837891</td>\n",
              "      <td>9137.993164</td>\n",
              "      <td>9137.993164</td>\n",
              "      <td>15735797743</td>\n",
              "    </tr>\n",
              "    <tr>\n",
              "      <th>366</th>\n",
              "      <td>2020-07-01</td>\n",
              "      <td>9157.814453</td>\n",
              "      <td>9306.107422</td>\n",
              "      <td>9105.851563</td>\n",
              "      <td>9230.061523</td>\n",
              "      <td>9230.061523</td>\n",
              "      <td>15946769408</td>\n",
              "    </tr>\n",
              "  </tbody>\n",
              "</table>\n",
              "</div>"
            ],
            "text/plain": [
              "           Date         Open  ...    Adj Close       Volume\n",
              "362  2020-06-27  9167.824219  ...  9045.390625  17273093144\n",
              "363  2020-06-28  9048.460938  ...  9143.582031  14560870760\n",
              "364  2020-06-29  9140.029297  ...  9190.854492  16460547078\n",
              "365  2020-06-30  9185.581055  ...  9137.993164  15735797743\n",
              "366  2020-07-01  9157.814453  ...  9230.061523  15946769408\n",
              "\n",
              "[5 rows x 7 columns]"
            ]
          },
          "metadata": {
            "tags": []
          },
          "execution_count": 5
        }
      ]
    },
    {
      "cell_type": "markdown",
      "metadata": {
        "id": "1JhToxCMpr5a"
      },
      "source": [
        "O comando ```df.shape``` como o proprio nome diz,nos mostra a forma(shape) da nossa base de dados indicando o numero de linhas e colunas (linha,coluna). \n",
        "\n"
      ]
    },
    {
      "cell_type": "code",
      "metadata": {
        "id": "_ezmF4gINpng",
        "colab": {
          "base_uri": "https://localhost:8080/",
          "height": 35
        },
        "outputId": "0e1d460a-0fbf-4752-a5b1-a91de8c5353f"
      },
      "source": [
        "# mostrar o tamanho dos dados (linhas,colunas)\n",
        "df.shape"
      ],
      "execution_count": null,
      "outputs": [
        {
          "output_type": "execute_result",
          "data": {
            "text/plain": [
              "(367, 7)"
            ]
          },
          "metadata": {
            "tags": []
          },
          "execution_count": 6
        }
      ]
    },
    {
      "cell_type": "markdown",
      "metadata": {
        "id": "f-e-XPqqpu3x"
      },
      "source": [
        "Outro comnando muito interessante é o ```df.columns``` ele nos mostra o nome das colunas da nossa base de dados.\n",
        "\n"
      ]
    },
    {
      "cell_type": "code",
      "metadata": {
        "id": "gD7Nh3rBOEsO",
        "colab": {
          "base_uri": "https://localhost:8080/",
          "height": 35
        },
        "outputId": "2d76a8ef-c747-4eed-d159-acfb0aa6913e"
      },
      "source": [
        "#mostrar os nomes das colunas \n",
        "df.columns"
      ],
      "execution_count": null,
      "outputs": [
        {
          "output_type": "execute_result",
          "data": {
            "text/plain": [
              "Index(['Date', 'Open', 'High', 'Low', 'Close', 'Adj Close', 'Volume'], dtype='object')"
            ]
          },
          "metadata": {
            "tags": []
          },
          "execution_count": 7
        }
      ]
    },
    {
      "cell_type": "markdown",
      "metadata": {
        "id": "u4m5gcO4ptaQ"
      },
      "source": [
        "Agora vamos mudar o nome das colunas caso queria, nesse caso só vou traduzir para melhorar a compreensão, para isso basta pegar o ```df.columns``` e igualar aos nomes escolhidos respeitando a ordem como no exemplo abaixo."
      ]
    },
    {
      "cell_type": "code",
      "metadata": {
        "id": "G2H_8oaXOzFD"
      },
      "source": [
        "#Mudar o nome das colunas \n",
        "df.columns = ['Data','Abertura','Máxima','Mínima','Fechamento','adjFechamento','Volume']"
      ],
      "execution_count": null,
      "outputs": []
    },
    {
      "cell_type": "markdown",
      "metadata": {
        "id": "BeufI-SCHl1r"
      },
      "source": [
        "Agora que mudamos vamos ver se realmente o comando funcionou"
      ]
    },
    {
      "cell_type": "code",
      "metadata": {
        "id": "XlmJ3N_mHMM5",
        "colab": {
          "base_uri": "https://localhost:8080/",
          "height": 70
        },
        "outputId": "85cfb587-6a6b-4dd5-9e8b-84e884d6bce0"
      },
      "source": [
        "#mostrar os nomes das colunas \n",
        "df.columns"
      ],
      "execution_count": null,
      "outputs": [
        {
          "output_type": "execute_result",
          "data": {
            "text/plain": [
              "Index(['Data', 'Abertura', 'Máxima', 'Mínima', 'Fechamento', 'adjFechamento',\n",
              "       'Volume'],\n",
              "      dtype='object')"
            ]
          },
          "metadata": {
            "tags": []
          },
          "execution_count": 10
        }
      ]
    },
    {
      "cell_type": "markdown",
      "metadata": {
        "id": "B2-Q7mnwFMEG"
      },
      "source": [
        "## Trabalhando com as colunas "
      ]
    },
    {
      "cell_type": "markdown",
      "metadata": {
        "id": "9aF46WWtvT42"
      },
      "source": [
        "O primeiro comando que vamos ver é para selecionarmos uma coluna especifica com o pandase o para isso basta executar o comando ```df[\"nome_da_coluna']```.\n",
        "\n"
      ]
    },
    {
      "cell_type": "code",
      "metadata": {
        "id": "Yy1AkcT0Nuea",
        "colab": {
          "base_uri": "https://localhost:8080/",
          "height": 230
        },
        "outputId": "46b0852c-bc50-4800-d0be-0640249a3dfd"
      },
      "source": [
        "#selecionar uma coluna \n",
        "df['Data']"
      ],
      "execution_count": null,
      "outputs": [
        {
          "output_type": "execute_result",
          "data": {
            "text/plain": [
              "0      2019-07-01\n",
              "1      2019-07-02\n",
              "2      2019-07-03\n",
              "3      2019-07-04\n",
              "4      2019-07-05\n",
              "          ...    \n",
              "362    2020-06-27\n",
              "363    2020-06-28\n",
              "364    2020-06-29\n",
              "365    2020-06-30\n",
              "366    2020-07-01\n",
              "Name: Data, Length: 367, dtype: object"
            ]
          },
          "metadata": {
            "tags": []
          },
          "execution_count": 12
        }
      ]
    },
    {
      "cell_type": "markdown",
      "metadata": {
        "id": "BsxUd9_1xVxG"
      },
      "source": [
        "Então com esse comando conseguimos ver todos os dados daquela coluna, mas vamos dizer que eu não queira todos os valores e sim um intervalor especifico."
      ]
    },
    {
      "cell_type": "code",
      "metadata": {
        "id": "_EGaiOj0xV8L",
        "colab": {
          "base_uri": "https://localhost:8080/",
          "height": 212
        },
        "outputId": "797d0aa4-f8ca-42af-9679-10229cba481e"
      },
      "source": [
        "df['Data'][10:20]"
      ],
      "execution_count": null,
      "outputs": [
        {
          "output_type": "execute_result",
          "data": {
            "text/plain": [
              "10    2019-07-11\n",
              "11    2019-07-12\n",
              "12    2019-07-13\n",
              "13    2019-07-14\n",
              "14    2019-07-15\n",
              "15    2019-07-16\n",
              "16    2019-07-17\n",
              "17    2019-07-18\n",
              "18    2019-07-19\n",
              "19    2019-07-20\n",
              "Name: Data, dtype: object"
            ]
          },
          "metadata": {
            "tags": []
          },
          "execution_count": 13
        }
      ]
    },
    {
      "cell_type": "markdown",
      "metadata": {
        "id": "tcBLsUnA6Cwb"
      },
      "source": [
        "Podemos usar o comando ```df.iloc[:,\"numero_da_coluna\"]```\n",
        "com o iloc colocamos primeiro os \":\" para selecionas todas as linhas e depois colocamos o numero da coluna que queremos trabalhar.\n"
      ]
    },
    {
      "cell_type": "code",
      "metadata": {
        "id": "yz3rvih0t4gO",
        "colab": {
          "base_uri": "https://localhost:8080/",
          "height": 230
        },
        "outputId": "dcdd24e3-2c33-4af0-898f-558de53e6b78"
      },
      "source": [
        "# usando o iloc \n",
        "df.iloc[:,0]"
      ],
      "execution_count": null,
      "outputs": [
        {
          "output_type": "execute_result",
          "data": {
            "text/plain": [
              "0      2019-07-01\n",
              "1      2019-07-02\n",
              "2      2019-07-03\n",
              "3      2019-07-04\n",
              "4      2019-07-05\n",
              "          ...    \n",
              "362    2020-06-27\n",
              "363    2020-06-28\n",
              "364    2020-06-29\n",
              "365    2020-06-30\n",
              "366    2020-07-01\n",
              "Name: Data, Length: 367, dtype: object"
            ]
          },
          "metadata": {
            "tags": []
          },
          "execution_count": 14
        }
      ]
    },
    {
      "cell_type": "markdown",
      "metadata": {
        "id": "E0i0tR3-7ICP"
      },
      "source": [
        "caso queria selecionar uma lina em especifico de uma coluna basta colocar no lugar dos \":\" anterior."
      ]
    },
    {
      "cell_type": "code",
      "metadata": {
        "id": "1p4_pl_37T_W",
        "colab": {
          "base_uri": "https://localhost:8080/",
          "height": 36
        },
        "outputId": "73d50816-88d2-4b90-98cc-73f061389ffe"
      },
      "source": [
        "df.iloc[0,0]"
      ],
      "execution_count": null,
      "outputs": [
        {
          "output_type": "execute_result",
          "data": {
            "application/vnd.google.colaboratory.intrinsic+json": {
              "type": "string"
            },
            "text/plain": [
              "'2019-07-01'"
            ]
          },
          "metadata": {
            "tags": []
          },
          "execution_count": 15
        }
      ]
    },
    {
      "cell_type": "markdown",
      "metadata": {
        "id": "T2MrWW0l7bP6"
      },
      "source": [
        "Nesse caso selecionamos a primeira linha da primreira coluna (lembrando que a contagem na linguagem Python começa com 0)."
      ]
    },
    {
      "cell_type": "markdown",
      "metadata": {
        "id": "KXaCocxA7tuj"
      },
      "source": [
        "Para retirarmos uma coluna basta usar o comando ```df.drop(columns=[\"nome_da_coluna])``` nele colocamos .drop e o nome da coluna que queremos retirar da base de dados,então primeiro vamos ver a base original.\n",
        "\n"
      ]
    },
    {
      "cell_type": "code",
      "metadata": {
        "id": "1TwpjFdB9ppV",
        "colab": {
          "base_uri": "https://localhost:8080/",
          "height": 194
        },
        "outputId": "ad0990a4-5fb3-44cf-b730-b00e0190b2ca"
      },
      "source": [
        "df.head()"
      ],
      "execution_count": null,
      "outputs": [
        {
          "output_type": "execute_result",
          "data": {
            "text/html": [
              "<div>\n",
              "<style scoped>\n",
              "    .dataframe tbody tr th:only-of-type {\n",
              "        vertical-align: middle;\n",
              "    }\n",
              "\n",
              "    .dataframe tbody tr th {\n",
              "        vertical-align: top;\n",
              "    }\n",
              "\n",
              "    .dataframe thead th {\n",
              "        text-align: right;\n",
              "    }\n",
              "</style>\n",
              "<table border=\"1\" class=\"dataframe\">\n",
              "  <thead>\n",
              "    <tr style=\"text-align: right;\">\n",
              "      <th></th>\n",
              "      <th>Data</th>\n",
              "      <th>Abertura</th>\n",
              "      <th>Máxima</th>\n",
              "      <th>Mínima</th>\n",
              "      <th>Fechamento</th>\n",
              "      <th>adjFechamento</th>\n",
              "      <th>Volume</th>\n",
              "    </tr>\n",
              "  </thead>\n",
              "  <tbody>\n",
              "    <tr>\n",
              "      <th>0</th>\n",
              "      <td>2019-07-01</td>\n",
              "      <td>10796.930664</td>\n",
              "      <td>11206.439453</td>\n",
              "      <td>10089.314453</td>\n",
              "      <td>10583.134766</td>\n",
              "      <td>10583.134766</td>\n",
              "      <td>29378589324</td>\n",
              "    </tr>\n",
              "    <tr>\n",
              "      <th>1</th>\n",
              "      <td>2019-07-02</td>\n",
              "      <td>10588.683594</td>\n",
              "      <td>10912.188477</td>\n",
              "      <td>9737.884766</td>\n",
              "      <td>10801.677734</td>\n",
              "      <td>10801.677734</td>\n",
              "      <td>31015895222</td>\n",
              "    </tr>\n",
              "    <tr>\n",
              "      <th>2</th>\n",
              "      <td>2019-07-03</td>\n",
              "      <td>10818.156250</td>\n",
              "      <td>11968.078125</td>\n",
              "      <td>10818.156250</td>\n",
              "      <td>11961.269531</td>\n",
              "      <td>11961.269531</td>\n",
              "      <td>30796494293</td>\n",
              "    </tr>\n",
              "    <tr>\n",
              "      <th>3</th>\n",
              "      <td>2019-07-04</td>\n",
              "      <td>11972.718750</td>\n",
              "      <td>12006.075195</td>\n",
              "      <td>11166.569336</td>\n",
              "      <td>11215.437500</td>\n",
              "      <td>11215.437500</td>\n",
              "      <td>25920294033</td>\n",
              "    </tr>\n",
              "    <tr>\n",
              "      <th>4</th>\n",
              "      <td>2019-07-05</td>\n",
              "      <td>11203.102539</td>\n",
              "      <td>11395.661133</td>\n",
              "      <td>10874.964844</td>\n",
              "      <td>10978.459961</td>\n",
              "      <td>10978.459961</td>\n",
              "      <td>23838480210</td>\n",
              "    </tr>\n",
              "  </tbody>\n",
              "</table>\n",
              "</div>"
            ],
            "text/plain": [
              "         Data      Abertura  ...  adjFechamento       Volume\n",
              "0  2019-07-01  10796.930664  ...   10583.134766  29378589324\n",
              "1  2019-07-02  10588.683594  ...   10801.677734  31015895222\n",
              "2  2019-07-03  10818.156250  ...   11961.269531  30796494293\n",
              "3  2019-07-04  11972.718750  ...   11215.437500  25920294033\n",
              "4  2019-07-05  11203.102539  ...   10978.459961  23838480210\n",
              "\n",
              "[5 rows x 7 columns]"
            ]
          },
          "metadata": {
            "tags": []
          },
          "execution_count": 16
        }
      ]
    },
    {
      "cell_type": "markdown",
      "metadata": {
        "id": "30UsmeNg_0fH"
      },
      "source": [
        "Agora com o comando,lembrando que temos que redefir a variavel que foi salva  a base de dados como no exemplo abaixo,para quando visualizarmos novamente a coluna não aparecerá."
      ]
    },
    {
      "cell_type": "code",
      "metadata": {
        "id": "96xWx91Jtnhy",
        "colab": {
          "base_uri": "https://localhost:8080/",
          "height": 194
        },
        "outputId": "d4c13b67-d863-462b-ae99-5d5febc1db22"
      },
      "source": [
        "# RETIRAR A COLUNA\n",
        "df = df.drop(columns=['Abertura']) \n",
        "df.head()"
      ],
      "execution_count": null,
      "outputs": [
        {
          "output_type": "execute_result",
          "data": {
            "text/html": [
              "<div>\n",
              "<style scoped>\n",
              "    .dataframe tbody tr th:only-of-type {\n",
              "        vertical-align: middle;\n",
              "    }\n",
              "\n",
              "    .dataframe tbody tr th {\n",
              "        vertical-align: top;\n",
              "    }\n",
              "\n",
              "    .dataframe thead th {\n",
              "        text-align: right;\n",
              "    }\n",
              "</style>\n",
              "<table border=\"1\" class=\"dataframe\">\n",
              "  <thead>\n",
              "    <tr style=\"text-align: right;\">\n",
              "      <th></th>\n",
              "      <th>Data</th>\n",
              "      <th>Máxima</th>\n",
              "      <th>Mínima</th>\n",
              "      <th>Fechamento</th>\n",
              "      <th>adjFechamento</th>\n",
              "      <th>Volume</th>\n",
              "    </tr>\n",
              "  </thead>\n",
              "  <tbody>\n",
              "    <tr>\n",
              "      <th>0</th>\n",
              "      <td>2019-07-01</td>\n",
              "      <td>11206.439453</td>\n",
              "      <td>10089.314453</td>\n",
              "      <td>10583.134766</td>\n",
              "      <td>10583.134766</td>\n",
              "      <td>29378589324</td>\n",
              "    </tr>\n",
              "    <tr>\n",
              "      <th>1</th>\n",
              "      <td>2019-07-02</td>\n",
              "      <td>10912.188477</td>\n",
              "      <td>9737.884766</td>\n",
              "      <td>10801.677734</td>\n",
              "      <td>10801.677734</td>\n",
              "      <td>31015895222</td>\n",
              "    </tr>\n",
              "    <tr>\n",
              "      <th>2</th>\n",
              "      <td>2019-07-03</td>\n",
              "      <td>11968.078125</td>\n",
              "      <td>10818.156250</td>\n",
              "      <td>11961.269531</td>\n",
              "      <td>11961.269531</td>\n",
              "      <td>30796494293</td>\n",
              "    </tr>\n",
              "    <tr>\n",
              "      <th>3</th>\n",
              "      <td>2019-07-04</td>\n",
              "      <td>12006.075195</td>\n",
              "      <td>11166.569336</td>\n",
              "      <td>11215.437500</td>\n",
              "      <td>11215.437500</td>\n",
              "      <td>25920294033</td>\n",
              "    </tr>\n",
              "    <tr>\n",
              "      <th>4</th>\n",
              "      <td>2019-07-05</td>\n",
              "      <td>11395.661133</td>\n",
              "      <td>10874.964844</td>\n",
              "      <td>10978.459961</td>\n",
              "      <td>10978.459961</td>\n",
              "      <td>23838480210</td>\n",
              "    </tr>\n",
              "  </tbody>\n",
              "</table>\n",
              "</div>"
            ],
            "text/plain": [
              "         Data        Máxima  ...  adjFechamento       Volume\n",
              "0  2019-07-01  11206.439453  ...   10583.134766  29378589324\n",
              "1  2019-07-02  10912.188477  ...   10801.677734  31015895222\n",
              "2  2019-07-03  11968.078125  ...   11961.269531  30796494293\n",
              "3  2019-07-04  12006.075195  ...   11215.437500  25920294033\n",
              "4  2019-07-05  11395.661133  ...   10978.459961  23838480210\n",
              "\n",
              "[5 rows x 6 columns]"
            ]
          },
          "metadata": {
            "tags": []
          },
          "execution_count": 17
        }
      ]
    },
    {
      "cell_type": "markdown",
      "metadata": {
        "id": "zsbPGYPsAOC7"
      },
      "source": [
        "Outro recurso muito utíl é o calculo de elementos estaticos que se torna muito util com a biblioteca Pandas."
      ]
    },
    {
      "cell_type": "markdown",
      "metadata": {
        "id": "RQbww38GCatD"
      },
      "source": [
        "Para calcular a média de uma coluna com Pandas basta usar o comando que foi falado para selecionar uma coluna ```df[\"nome_da_coluna\"]```\n",
        " e colocar um complemanto para calcular a média \n",
        "```df[\"nome_da_coluna\"].mean()```.\n",
        "\n",
        "\n",
        "\n"
      ]
    },
    {
      "cell_type": "code",
      "metadata": {
        "id": "7NOgu8KlGOeV",
        "colab": {
          "base_uri": "https://localhost:8080/",
          "height": 35
        },
        "outputId": "6af81a68-1b4c-4655-8862-6afdd35bda91"
      },
      "source": [
        "# Calculando a média dos valores de fechamendo \n",
        "df['Fechamento'].mean()"
      ],
      "execution_count": null,
      "outputs": [
        {
          "output_type": "execute_result",
          "data": {
            "text/plain": [
              "8836.654677392371"
            ]
          },
          "metadata": {
            "tags": []
          },
          "execution_count": 18
        }
      ]
    },
    {
      "cell_type": "markdown",
      "metadata": {
        "id": "lJb4xynvDPlB"
      },
      "source": [
        "Caso queria outra função estatistica como a mediana basta seguir a mesma logica so que nesse casso usamos ```.median()```"
      ]
    },
    {
      "cell_type": "code",
      "metadata": {
        "id": "igpmbGCVFF9R",
        "colab": {
          "base_uri": "https://localhost:8080/",
          "height": 35
        },
        "outputId": "3feed0cb-b883-4428-9aac-3dd4107b3504"
      },
      "source": [
        "df['Fechamento'].median()"
      ],
      "execution_count": null,
      "outputs": [
        {
          "output_type": "execute_result",
          "data": {
            "text/plain": [
              "8942.808594"
            ]
          },
          "metadata": {
            "tags": []
          },
          "execution_count": 19
        }
      ]
    },
    {
      "cell_type": "markdown",
      "metadata": {
        "id": "XZp2KIQ8Dzrn"
      },
      "source": [
        "Lembrando que o df que foi usado durante esse tutorial foi a base de dados que eu salvei como \"df\" no começo desse artigo.\n",
        "\n",
        "Espero que tenha aproveitado bastante essa leitura e para mais informações sobre ferramentas da biblioteca Pandas ([CLIQUE AQUI ](https://https://pandas.pydata.org/)) e deixe seu comentario sobre o assunto e compartilhe conhecimento com a gente."
      ]
    }
  ]
}